{
 "cells": [
  {
   "cell_type": "markdown",
   "metadata": {
    "pycharm": {
     "name": "#%% md\n"
    }
   },
   "source": [
    "# Methods\n",
    "\n",
    "We divide automatic methods for automatic error detection into two categories which we dub **flagger** and **scorer**.\n",
    "Flagging means that methods gives a dichotomous, binary judgement whether the label for an instance is correct or erroneous.\n",
    "Scoring methods on the other hand give a percentage estimate on how likely it is that an annotation is erroneous.\n",
    "These correspond to unranked and ranked evaluation from information retrieval and similarly require different evaluation metrics.\n",
    "\n",
    "**Flagger:**\n",
    "\n",
    "| **Abbreviation** | **Method**           | **Text** | **Token** | **Span** | **Proposed by**                                            |\n",
    "|------------------|----------------------|----------|-----------|----------|------------------------------------------------------------|\n",
    "| CL               | Confident Learning   | ✓        | ✓         | ✓        | Northcutt (2021)                                           |\n",
    "| CS               | Curriculum Spotter   | ✓        |           |          | Amiri (2018)                                               |\n",
    "| DE               | Diverse Ensemble     | ✓        | ✓         | ✓        | Loftsson (2009)                                            |\n",
    "| IRT              | Item Response Theory | ✓        | ✓         | ✓        | Rodriguez (2021)                                           |\n",
    "| LA               | Label Aggregation    | ✓        | ✓         | ✓        | Amiri (2018)                                               |\n",
    "| LS               | Leitner Spotter      | ✓        |           |          | Amiri (2018)                                               |\n",
    "| PE               | Projection Ensemble  | ✓        | ✓         | ✓        | Reiss (2020)                                               |\n",
    "| RE               | Retag                | ✓        | ✓         | ✓        | van Halteren (2000)                                        |\n",
    "| VN               | Variation n-Grams    |          | ✓         | ✓        | Dickinson (2003)                                           |\n",
    "\n",
    "**Scorer:**\n",
    "\n",
    "| **Abbreviation** | **Method**                 | **Text** | **Token** | **Span** | **Proposed by**                                            |\n",
    "|------------------|----------------------------|----------|-----------|----------|------------------------------------------------------------|\n",
    "| BC               | Borda Count                | ✓        | ✓         | ✓        | Larson (2020)                                              |\n",
    "| CU               | Classification Uncertainty | ✓        | ✓         | ✓        | Hendrycks (2017)                                           |\n",
    "| DM               | Data Map Confidence        | ✓        | ✓         | ✓        | Swayamdipta (2020)                                         |\n",
    "| DU               | Dropout Uncertainty        | ✓        | ✓         | ✓        | Amiri (2018)                                               |\n",
    "| KNN              | k-Nearest Neighbor Entropy | ✓        | ✓         | ✓        | Grivas (2020)                                              |\n",
    "| LE               | Label Entropy              |          | ✓         | ✓        | Hollenstein (2016)                                         |\n",
    "| MD               | Mean Distance              | ✓        | ✓         | ✓        | Larson (2019)                                              |\n",
    "| PM               | Prediction Margin          | ✓        | ✓         | ✓        | Dligach (2011)                                             |\n",
    "| WD               | Weighted Discrepancy       |          | ✓         | ✓        | Hollenstein (2016)                                         |\n",
    "\n",
    "We further divide methods by their means of annotation error detection and describe how to use each."
   ]
  },
  {
   "cell_type": "markdown",
   "metadata": {
    "pycharm": {
     "name": "#%% md\n"
    }
   },
   "source": [
    "## Tasks and data\n",
    "\n",
    "We focus on methods for text classification as well as token and span labeling, but our implementations should be easily adaptable to other tasks.\n",
    "We provide example datasets that can be used to test methods and understand the data formats used."
   ]
  },
  {
   "cell_type": "code",
   "execution_count": null,
   "metadata": {
    "pycharm": {
     "is_executing": true,
     "name": "#%%\n"
    }
   },
   "outputs": [],
   "source": [
    "# Some imports\n",
    "import awkward as ak"
   ]
  },
  {
   "cell_type": "code",
   "execution_count": null,
   "metadata": {
    "pycharm": {
     "name": "#%%\n"
    }
   },
   "outputs": [],
   "source": [
    "from nessie.dataloader import load_example_text_classification_data, load_example_token_labeling_data\n",
    "\n",
    "text_data = load_example_text_classification_data().subset(100)\n",
    "\n",
    "token_data = load_example_token_labeling_data().subset(100)\n",
    "token_data_flat = token_data.flatten() # Most methods need flat and not nested inputs, therefore, we flatten results here"
   ]
  },
  {
   "cell_type": "code",
   "execution_count": null,
   "metadata": {},
   "outputs": [],
   "source": [
    "# Span\n",
    "from nessie.dataloader import load_example_span_classification_data\n",
    "from seqeval.metrics.sequence_labeling import get_entities\n",
    "\n",
    "span_data = load_example_span_classification_data().subset(100)\n",
    "span_data_flat = span_data.flatten() # Most methods need flat and not nested inputs, therefore, we flatten results here\n",
    "span_noisy_entities = [e[0] for e in get_entities(span_data.noisy_labels.tolist())]"
   ]
  },
  {
   "cell_type": "markdown",
   "metadata": {
    "pycharm": {
     "name": "#%% md\n"
    }
   },
   "source": [
    "Different tasks have a different form of their inputs and output dimensions. For instance, token and span labeling typically are given as ragged/nested arrays, that is arrays of a varying second dimension (because the number of tokens is different per sentence). These are flattened when passed to most general methods and unflattened to their original shape. For span labeling, we also work on span-level and not on (BIO) tag level, therefore, spans need to be extracted and outputs from models need to be aggregated from token to spans. We also need to align predictions of models with the given span labels, as they can differ due to different boundary predictions. `nessie` provides helper functions for these operations."
   ]
  },
  {
   "cell_type": "markdown",
   "metadata": {
    "pycharm": {
     "name": "#%% md\n"
    }
   },
   "source": [
    "##  Variation based\n",
    "\n",
    "Methods based on the variation principle leverage the observation that similar surface forms are often only annotated with one or a few distinct labels.\n",
    "If an instance is annotated with a different, rarer label, then it is more often than not an annotation error or an inconsistency.\n",
    "Variation based methods are relatively easy to implement and can be used in settings for which it is difficult to train a machine learning model, being it because of low-resource scenarios or a task that is difficult to train models on.\n",
    "Their main disadvantage though is that they need overlapping surface forms to perform well, which is not the case in settings like text classification or datasets with diverse instances."
   ]
  },
  {
   "cell_type": "markdown",
   "metadata": {
    "pycharm": {
     "name": "#%% md\n"
    }
   },
   "source": [
    "### Variation n-grams\n",
    "\n",
    "For each instance, n-gram contexts of different sizes are collected and compared to others.\n",
    "If the label for an instance disagrees with labels from other instances in the same context, then it is considered an error."
   ]
  },
  {
   "cell_type": "code",
   "execution_count": null,
   "metadata": {
    "pycharm": {
     "name": "#%%\n"
    }
   },
   "outputs": [],
   "source": [
    "# Token classification\n",
    "from nessie.detectors import VariationNGrams\n",
    "\n",
    "detector = VariationNGrams()\n",
    "flags = detector.score(sentences=token_data.sentences, tags=token_data.noisy_labels)"
   ]
  },
  {
   "cell_type": "code",
   "execution_count": null,
   "metadata": {
    "pycharm": {
     "name": "#%%\n"
    }
   },
   "outputs": [],
   "source": [
    "# Span classification\n",
    "from nessie.detectors import VariationNGramsSpan\n",
    "\n",
    "detector = VariationNGramsSpan()\n",
    "flagged_spans = detector.score(sentences=span_data.sentences, tags=span_data.noisy_labels)"
   ]
  },
  {
   "cell_type": "markdown",
   "metadata": {
    "pycharm": {
     "name": "#%% md\n"
    }
   },
   "source": [
    "## Model Based\n",
    "\n",
    "Machine learning models trained on the to-be-corrected dataset can be used to find annotation errors.\n",
    "Models in this context are usually trained via cross-validation and the respective holdout set is used to detect errors.\n",
    "After all folds have been used as holdout, the complete dataset is analyzed.\n",
    "The training itself is not part of the method and is not altered by it, in contrast to other methods like the ones based on training dynamics.\n",
    "Several ways have been devised for model-based annotation error detection, which are described in the following.\n",
    "As the name implies, m-based annotation detection methods need trained models to obtain predictions or probabilities.\n",
    "We already implemented the most common models for you to be ready to use.\n",
    "We provide the following models:\n",
    "\n",
    "**Text classification:**\n",
    "\n",
    "| Class name                | Description                                   |\n",
    "|---------------------------|-----------------------------------------------|\n",
    "| FastTextTextClassifier    | Fasttext                                      |\n",
    "| FlairTextClassifier       | Flair                                         |\n",
    "| LgbmTextClassifier        | LightGBM with handcrafted features            |\n",
    "| LgbmTextClassifier        | LightGBM with S-BERT features                 |\n",
    "| MaxEntTextClassifier      | Logistic Regression with handcrafted features |\n",
    "| MaxEntTextClassifier      | Logistic with S-BERT features                 |\n",
    "| TransformerTextClassifier | Transformers                                  |\n",
    "\n",
    "**Sequence Classification:**\n",
    "\n",
    "| Class name                | Description                   |\n",
    "|---------------------------|-------------------------------|\n",
    "| FlairSequenceTagger       | Flair                         |\n",
    "| CrfSequenceTagger         | CRF with handcrafted features |\n",
    "| MaxEntSequenceTagger      | Maxent sequence tagger        |\n",
    "| TransformerSequenceTagger | Transformer                   |\n",
    "\n",
    "You can add your own models by implementing the respective abstract class for TextClassifier or SequenceTagger.\n",
    "Models are typicall trained via cross-validation, for which we provide a helper class."
   ]
  },
  {
   "cell_type": "code",
   "execution_count": null,
   "metadata": {
    "pycharm": {
     "name": "#%%\n"
    }
   },
   "outputs": [],
   "source": [
    "from nessie.helper import CrossValidationHelper\n",
    "from nessie.models.text import DummyTextClassifier\n",
    "from nessie.models.tagging import DummySequenceTagger\n",
    "\n",
    "num_splits = 3 # Usually 10 is a good number, we use 3 for simplicity\n",
    "\n",
    "# Text\n",
    "cv = CrossValidationHelper(n_splits=num_splits)\n",
    "tc_result = cv.run(text_data.texts, text_data.noisy_labels, DummyTextClassifier())\n",
    "\n",
    "# Token\n",
    "cv = CrossValidationHelper(n_splits=num_splits)\n",
    "tl_result = cv.run_for_ragged(token_data.sentences, token_data.noisy_labels, DummySequenceTagger())\n",
    "tl_result_flat = tl_result.flatten() # Most methods need flat and not nested inputs, therefore, we flatten results here\n",
    "\n",
    "# Span\n",
    "from nessie.task_support.span_labeling import align_span_labeling_result\n",
    "cv = CrossValidationHelper(n_splits=num_splits)\n",
    "sl_result = cv.run_for_ragged(span_data.sentences, span_data.noisy_labels, DummySequenceTagger())\n",
    "# We extract spans from BIO tags, align them with model predictions and aggregate token level probabilities to span level\n",
    "sl_result = align_span_labeling_result(span_data.noisy_labels, sl_result)"
   ]
  },
  {
   "cell_type": "markdown",
   "metadata": {
    "pycharm": {
     "name": "#%% md\n"
    }
   },
   "source": [
    "### Retag\n",
    "\n",
    "A simple way to use a trained model for annotation error detection is to use model predictions directly; when disagreeing with the given labels to correct, instances are flagged as annotation errors."
   ]
  },
  {
   "cell_type": "code",
   "execution_count": null,
   "metadata": {
    "pycharm": {
     "name": "#%%\n"
    }
   },
   "outputs": [],
   "source": [
    "from nessie.detectors import Retag\n",
    "\n",
    "detector = Retag()\n",
    "\n",
    "# Text\n",
    "flags = detector.score(text_data.noisy_labels, tc_result.predictions)\n",
    "\n",
    "# Token\n",
    "flags_flat = detector.score(token_data_flat.noisy_labels, tl_result_flat.predictions)\n",
    "flags = ak.unflatten(flags_flat, token_data.sizes)\n",
    "\n",
    "# Span\n",
    "flags = detector.score(sl_result.labels, sl_result.predictions)"
   ]
  },
  {
   "cell_type": "markdown",
   "metadata": {
    "pycharm": {
     "name": "#%%\n"
    }
   },
   "source": [
    "### Classification Uncertainty\n",
    "\n",
    "Probabilistic classification models assign probabilities which are typically higher for instances that are correctly labeled compared to erroneous ones. Therefore, the class probabilities of the noisy labels can be used to score these for being an annotation error."
   ]
  },
  {
   "cell_type": "code",
   "execution_count": null,
   "metadata": {},
   "outputs": [],
   "source": [
    "from nessie.detectors import ClassificationUncertainty\n",
    "\n",
    "detector = ClassificationUncertainty()\n",
    "\n",
    "# Text\n",
    "scores_cu_text = detector.score(labels=text_data.noisy_labels, probabilities=tc_result.probabilities, le=tc_result.le)\n",
    "\n",
    "# Token\n",
    "scores_cu_token_flat = detector.score(labels=token_data_flat.noisy_labels, probabilities=tl_result_flat.probabilities, le=tl_result_flat.le)\n",
    "scores_cu_token = ak.unflatten(scores_cu_token_flat, token_data.sizes)\n",
    "\n",
    "# Span\n",
    "scores_cu_span = detector.score(labels=sl_result.labels, probabilities=sl_result.probabilities, le=sl_result.le)"
   ]
  },
  {
   "cell_type": "markdown",
   "metadata": {},
   "source": [
    "### Prediction Margin\n",
    "\n",
    "Inspired by active learning,  *Prediction Margin* uses the probabilities of the two highest scoring labels for an instance.\n",
    "The resulting score is simply their difference.\n",
    "The intuition behind this is that samples with smaller margin are more likely to be an annotation error, since the smaller the decision margin is the more unsure the model was."
   ]
  },
  {
   "cell_type": "code",
   "execution_count": null,
   "metadata": {},
   "outputs": [],
   "source": [
    "from nessie.detectors import PredictionMargin\n",
    "\n",
    "detector = PredictionMargin()\n",
    "\n",
    "# Text\n",
    "scores_pm_text = detector.score(labels=text_data.noisy_labels, probabilities=tc_result.probabilities, le=tc_result.le)\n",
    "\n",
    "# Token\n",
    "scores_pm_token_flat = detector.score(labels=token_data_flat.noisy_labels, probabilities=tl_result_flat.probabilities, le=tl_result_flat.le)\n",
    "scores_pm_token = ak.unflatten(scores_pm_token_flat, token_data.sizes)\n",
    "\n",
    "# Span\n",
    "scores_pm_span = detector.score(labels=sl_result.labels, probabilities=sl_result.probabilities, le=sl_result.le)"
   ]
  },
  {
   "cell_type": "markdown",
   "metadata": {},
   "source": [
    "### Confident Learning\n",
    "\n",
    "This method estimates the joint distribution of noisy and true labels. A threshold is then learnt (the average self-confidence) and instances whose computed probability of having the correct label is below the respective threshold are flagged as erroneous."
   ]
  },
  {
   "cell_type": "code",
   "execution_count": null,
   "metadata": {},
   "outputs": [],
   "source": [
    "from nessie.detectors import ConfidentLearning\n",
    "\n",
    "detector = ConfidentLearning()\n",
    "\n",
    "# Text\n",
    "flags = detector.score(labels=text_data.noisy_labels, probabilities=tc_result.probabilities, le=tc_result.le)\n",
    "\n",
    "# Token\n",
    "flags_flat = detector.score(labels=token_data_flat.noisy_labels, probabilities=tl_result_flat.probabilities, le=tl_result_flat.le)\n",
    "flags = ak.unflatten(flags_flat, token_data.sizes)\n",
    "\n",
    "# Span\n",
    "flags = detector.score(labels=sl_result.labels, probabilities=sl_result.probabilities, le=sl_result.le)"
   ]
  },
  {
   "cell_type": "markdown",
   "metadata": {},
   "source": [
    "### Dropout Uncertainty\n",
    "\n",
    "This method uses Monte Carlo dropout, that is, dropout during inference over several runs with different seeds to estimate the uncertainty of an underlying model. There are different acquisition methods to compute uncertainty from the stochastic passes, we use entropy over runs."
   ]
  },
  {
   "cell_type": "code",
   "execution_count": null,
   "metadata": {},
   "outputs": [],
   "source": [
    "from nessie.detectors import DropoutUncertainty\n",
    "\n",
    "detector = DropoutUncertainty()\n",
    "\n",
    "# Text\n",
    "scores_du_text = detector.score(tc_result.repeated_probabilities)\n",
    "\n",
    "# Token\n",
    "scores_du_token_flat = detector.score(token_data_flat.repeated_probabilities)\n",
    "scores_du_token = ak.unflatten(scores_du_token_flat, token_data.sizes)\n",
    "\n",
    "# Span\n",
    "scores_du_span = detector.score(sl_result.repeated_probabilities)"
   ]
  },
  {
   "cell_type": "markdown",
   "metadata": {},
   "source": [
    "### Label Aggregation\n",
    "\n",
    "Given repeated predictions obtained via *Monte Carlo Dropout*, one can use aggregation techniques from crowdsourcing like Dawid-Skene or MACE to adjudicate the resulting repeated predictions."
   ]
  },
  {
   "cell_type": "code",
   "execution_count": null,
   "metadata": {},
   "outputs": [],
   "source": [
    "from nessie.detectors import LabelAggregation\n",
    "\n",
    "detector = LabelAggregation()\n",
    "\n",
    "# Text\n",
    "flags = detector.score(labels=text_data.noisy_labels, repeated_probabilities=tc_result.repeated_probabilities, le=tc_result.le)\n",
    "\n",
    "# Token\n",
    "flags_flat = detector.score(labels=token_data_flat.noisy_labels, repeated_probabilities=tl_result_flat.repeated_probabilities, le=tl_result_flat.le)\n",
    "flags = ak.unflatten(flags_flat, token_data.sizes)\n",
    "\n",
    "# Span\n",
    "flags = detector.score(labels=sl_result.labels, repeated_probabilities=sl_result.repeated_probabilities, le=sl_result.le)"
   ]
  },
  {
   "cell_type": "markdown",
   "metadata": {},
   "source": [
    "## Training Dynamics\n",
    "\n",
    "Methods based on training dynamics use information derived from how a model behaves during training and how predictions change over the course of its training. The assumption behind both of these methods is that instances that are perceived harder or misqualified more frequently are more often annotation errors than easier ones.\n",
    "\n",
    "*Curriculum Spotter* and *Leitner Spotter* require that the instances can be scheduled independently. This is  for instance not the case for sequence labeling, as the model trains on complete sentences and not individual tokens or span. Even if they have different difficulties, they would end up in the same batch nonetheless.\n",
    "\n",
    "The implementation requires access to information during training, which is solved via callbacks. As only transformers have this avaiable, we only implmenet training dynamic methods for transformers."
   ]
  },
  {
   "cell_type": "markdown",
   "metadata": {},
   "source": [
    "### Curriculum Spotter\n",
    "\n",
    "This trains a model via curriculum learning, where the network trains on easier instances during earlier epochs and is then gradually introduced to harder instances.\n",
    "Instances then are ranked by how hard they were perceived during training. "
   ]
  },
  {
   "cell_type": "code",
   "execution_count": null,
   "metadata": {},
   "outputs": [],
   "source": [
    "from nessie.detectors import CurriculumSpotter\n",
    "\n",
    "detector = CurriculumSpotter(max_epochs=2)\n",
    "scores_cs_text = detector.score(texts=text_data.texts, labels=text_data.noisy_labels)"
   ]
  },
  {
   "cell_type": "markdown",
   "metadata": {},
   "source": [
    "### Leitner Spotter\n",
    "\n",
    "This method adapts the idea of the Zettelkasten to model training.\n",
    "There, difficult instances are presented more often during training than easier ones."
   ]
  },
  {
   "cell_type": "code",
   "execution_count": null,
   "metadata": {},
   "outputs": [],
   "source": [
    "from nessie.detectors import LeitnerSpotter\n",
    "\n",
    "detector = LeitnerSpotter(max_epochs=2)\n",
    "scores_ls_text = detector.score(texts=text_data.texts, labels=text_data.noisy_labels)"
   ]
  },
  {
   "cell_type": "markdown",
   "metadata": {},
   "source": [
    "### Data Map Confidence\n",
    "\n",
    "This method uses the class probability for each instance's gold label across epochs as a measure of confidence.\n",
    "It has been shown that low confidence correlates well with an item having a wrong label."
   ]
  },
  {
   "cell_type": "code",
   "execution_count": null,
   "metadata": {},
   "outputs": [],
   "source": [
    "# Text\n",
    "\n",
    "from nessie.detectors import DataMapConfidence\n",
    "from nessie.models.text import TransformerTextClassifier\n",
    "\n",
    "detector = DataMapConfidence(TransformerTextClassifier(max_epochs=2))\n",
    "scores_dm_text = detector.score(text_data.texts, text_data.noisy_labels)"
   ]
  },
  {
   "cell_type": "code",
   "execution_count": null,
   "metadata": {},
   "outputs": [],
   "source": [
    "from nessie.detectors import DataMapConfidence\n",
    "from nessie.models.tagging import TransformerSequenceTagger\n",
    "\n",
    "# Token\n",
    "detector = DataMapConfidence(TransformerSequenceTagger(max_epochs=2), needs_flattening=True)\n",
    "scores_dm_token = detector.score(token_data.sentences, token_data.noisy_labels)\n",
    "scores_dm_token_flat = ak.flatten(scores_dm_token).to_numpy()"
   ]
  },
  {
   "cell_type": "code",
   "execution_count": null,
   "metadata": {},
   "outputs": [],
   "source": [
    "from nessie.detectors import DataMapConfidence\n",
    "from nessie.models.tagging import TransformerSequenceTagger\n",
    "from nessie.task_support.span_labeling import aggregate_scores_to_spans\n",
    "\n",
    "# Span\n",
    "detector = DataMapConfidence(TransformerSequenceTagger(max_epochs=2), needs_flattening=True)\n",
    "scores_dm_span = detector.score(span_data.sentences, span_data.noisy_labels)\n",
    "scores_dm_span = aggregate_scores_to_spans(span_data.noisy_labels, scores_dm_span)\n",
    "scores_dm_span = ak.flatten(scores_dm_span).to_numpy()"
   ]
  },
  {
   "cell_type": "markdown",
   "metadata": {},
   "source": [
    "## Vector Space Proximity\n",
    "\n",
    "Approaches of this kind leverage dense embeddings of tokens, spans, and texts into a vector space and use their distribution therein.\n",
    "The distance of an instance to semantically similar instances is expected to be smaller than the distance to semantically different ones.\n",
    "Embeddings are typically obtained by using BERT-type models  for tokens and spans or S-BERT for  sentences."
   ]
  },
  {
   "cell_type": "code",
   "execution_count": null,
   "metadata": {},
   "outputs": [],
   "source": [
    "# Prepare the embeddings\n",
    "from nessie.models.featurizer import CachedSentenceTransformer, FlairTokenEmbeddingsWrapper\n",
    "from flair.embeddings import TransformerWordEmbeddings\n",
    "\n",
    "# Text\n",
    "sentence_embedder = CachedSentenceTransformer()\n",
    "sentence_embeddings = sentence_embedder.embed(text_data.texts)\n",
    "\n",
    "# Token\n",
    "token_embedder = FlairTokenEmbeddingsWrapper(TransformerWordEmbeddings())\n",
    "token_embeddings = token_embedder.embed(token_data.sentences, flat=True)\n",
    "\n",
    "# Span\n",
    "from nessie.task_support.span_labeling import embed_spans\n",
    "\n",
    "span_embeddings = embed_spans(span_data.sentences, span_data.noisy_labels, token_embedder)"
   ]
  },
  {
   "cell_type": "markdown",
   "metadata": {},
   "source": [
    "### Mean Distance\n",
    "\n",
    "This method computes the centroid of each class by averaging vector embeddings of the respective instances.\n",
    "Items are then scored by the distance from their embedding vector to their centroid.\n",
    "The underlying assumption is that semantically similar items should have the same label and be close together (and thereby to the mean embedding) in the vector space."
   ]
  },
  {
   "cell_type": "code",
   "execution_count": null,
   "metadata": {},
   "outputs": [],
   "source": [
    "from nessie.detectors import MeanDistance\n",
    "\n",
    "detector = MeanDistance()\n",
    "\n",
    "# Text\n",
    "scores_md_text = detector.score(labels=text_data.noisy_labels, embedded_instances=sentence_embeddings)\n",
    "\n",
    "# Token\n",
    "scores_md_token_flat = detector.score(labels=token_data_flat.noisy_labels, embedded_instances=token_embeddings)\n",
    "scores_md_token = ak.unflatten(scores_md_token_flat, token_data.sizes)\n",
    "\n",
    "# Span\n",
    "scores_md_span = detector.score(labels=span_noisy_entities, embedded_instances=ak.flatten(span_embeddings).to_numpy())"
   ]
  },
  {
   "cell_type": "markdown",
   "metadata": {},
   "source": [
    "### k-Nearest-Neighbor Entropy\n",
    "\n",
    "For this method, all instances are first embedded into a vector space.\n",
    "Then, for every instance to check, its *k* nearest neighbors based on Euclidean distance in the vector space are retrieved.\n",
    "Their distances to the item's embedding vector are then used to compute a distribution over labels via applying softmax.\n",
    "An instance's score is then the entropy of its distance distribution; if it is large, it indicates uncertainty, hinting at being mislabeled."
   ]
  },
  {
   "cell_type": "code",
   "execution_count": null,
   "metadata": {},
   "outputs": [],
   "source": [
    "from nessie.detectors import KnnEntropy\n",
    "\n",
    "detector = KnnEntropy()\n",
    "\n",
    "# Text\n",
    "scores_knn_text = detector.score(labels=text_data.noisy_labels, embedded_instances=sentence_embeddings)\n",
    "\n",
    "# Token\n",
    "scores_knn_token_flat = detector.score(labels=token_data_flat.noisy_labels, embedded_instances=token_embeddings)\n",
    "scores_knn_token = ak.unflatten(scores_knn_token_flat, token_data.sizes)\n",
    "\n",
    "# Span\n",
    "scores_knn_span = detector.score(labels=span_noisy_entities, embedded_instances=ak.flatten(span_embeddings).to_numpy()) "
   ]
  },
  {
   "cell_type": "markdown",
   "metadata": {},
   "source": [
    "## Ensembling\n",
    "\n",
    "Ensembling methods combine the scores or predictions of several individual flagger or scorer to obtain better performance than the sum of their parts."
   ]
  },
  {
   "cell_type": "code",
   "execution_count": null,
   "metadata": {},
   "outputs": [],
   "source": [
    "from nessie.helper import CrossValidationHelper\n",
    "from nessie.models.text import DummyTextClassifier\n",
    "from nessie.models.tagging import DummySequenceTagger\n",
    "\n",
    "num_splits = 3 # Usually 10 is a good number, we use 3 for simplicity\n",
    "cv = CrossValidationHelper(n_splits=num_splits)    "
   ]
  },
  {
   "cell_type": "code",
   "execution_count": null,
   "metadata": {},
   "outputs": [],
   "source": [
    "# Text\n",
    "\n",
    "# Replace these with non-dummy models\n",
    "models = [DummyTextClassifier(), DummyTextClassifier(), DummyTextClassifier()]\n",
    "collected_tc_predictions = []\n",
    "for model in models:\n",
    "    result = cv.run(text_data.texts, text_data.noisy_labels, model)    \n",
    "    collected_tc_predictions.append(result.predictions)"
   ]
  },
  {
   "cell_type": "code",
   "execution_count": null,
   "metadata": {},
   "outputs": [],
   "source": [
    "# Token\n",
    "\n",
    "# Replace these with non-dummy models\n",
    "models = [DummySequenceTagger(), DummySequenceTagger(), DummySequenceTagger()]\n",
    "collected_tl_predictions = []\n",
    "for model in models:\n",
    "    result = cv.run_for_ragged(token_data.sentences, token_data.noisy_labels, model)    \n",
    "    collected_tl_predictions.append(result.flatten().predictions)"
   ]
  },
  {
   "cell_type": "code",
   "execution_count": null,
   "metadata": {},
   "outputs": [],
   "source": [
    "# Span\n",
    "\n",
    "# Replace these with non-dummy models\n",
    "models = [DummySequenceTagger(), DummySequenceTagger(), DummySequenceTagger()]\n",
    "collected_sl_predictions = []\n",
    "for model in models:\n",
    "    result = cv.run_for_ragged(span_data.sentences, span_data.noisy_labels, model)    \n",
    "    result_aligned = align_span_labeling_result(span_data.noisy_labels, result)\n",
    "    collected_sl_predictions.append(result_aligned.predictions)"
   ]
  },
  {
   "cell_type": "markdown",
   "metadata": {},
   "source": [
    "### Diverse Ensemble\n",
    "\n",
    "Instead of using a single prediction like *Retag* does, here, the predictions of several models are aggregated.\n",
    "If most of them disagree on the label for an instance, then it is likely to be an annotation error."
   ]
  },
  {
   "cell_type": "code",
   "execution_count": null,
   "metadata": {},
   "outputs": [],
   "source": [
    "from nessie.detectors import MajorityVotingEnsemble\n",
    "\n",
    "detector = MajorityVotingEnsemble()\n",
    "\n",
    "# Text\n",
    "flags = detector.score(text_data.noisy_labels, collected_tc_predictions)\n",
    "\n",
    "# Token\n",
    "flags = detector.score(token_data_flat.noisy_labels, collected_tl_predictions)\n",
    "\n",
    "# Span\n",
    "flags = detector.score(span_noisy_entities, collected_sl_predictions)"
   ]
  },
  {
   "cell_type": "markdown",
   "metadata": {},
   "source": [
    "### Item Response Theory\n",
    "\n",
    "Item Response Theory is a mathematical framework to model relationships between measured responses of test  subjects (e.g. answers to questions in an exam) for an underlying, latent trait  (e.g. the overall grasp on the subject that is tested).\n",
    "It can also be used to estimate the discriminative power of an item, i.e. how well the response to a question can be used to distinguish between subjects of different ability.\n",
    "In the context of AED, test subjects are trained models, the observations are the predictions on the dataset and the latent trait is task performance."
   ]
  },
  {
   "cell_type": "code",
   "execution_count": null,
   "metadata": {},
   "outputs": [],
   "source": [
    "from nessie.detectors import ItemResponseTheoryFlagger\n",
    "\n",
    "detector = ItemResponseTheoryFlagger(num_iters=5) # Use 10,000 in real code\n",
    "\n",
    "# Text\n",
    "flags = detector.score(text_data.noisy_labels, collected_tc_predictions)\n",
    "\n",
    "# Token\n",
    "flags = detector.score(token_data_flat.noisy_labels, collected_tl_predictions)\n",
    "\n",
    "# Span\n",
    "flags = detector.score(span_noisy_entities, collected_sl_predictions)"
   ]
  },
  {
   "cell_type": "markdown",
   "metadata": {},
   "source": [
    "### Projection Ensemble\n",
    "\n",
    "This method trains an ensemble of logistic regression models on different Gaussian projections of BERT embeddings.\n",
    "If most of them disagree on the label for an instance, then it is likely to be an annotation error."
   ]
  },
  {
   "cell_type": "code",
   "execution_count": null,
   "metadata": {},
   "outputs": [],
   "source": [
    "from nessie.detectors import MaxEntProjectionEnsemble\n",
    "\n",
    "detector = MaxEntProjectionEnsemble(n_components=[32, 64], seeds=[42], max_iter=100) # Use the defaults in real code\n",
    "\n",
    "# TODO: Write me"
   ]
  },
  {
   "cell_type": "markdown",
   "metadata": {},
   "source": [
    "### Borda Count\n",
    "\n",
    "Similarly to combining several flagger into an ensemble, rankings obtained from different scorer can be combined as well.\n",
    "Here we leverage Borda counts, a voting scheme that assigns points based on their ranking.\n",
    "For each scorer, given scores for *N* instances, the instance that is ranked the highest is given *N* points, the second-highest *N-1* and so on.\n",
    "The points assigned by different scorers are then summed up for each instance and form the aggregated ranking.\n",
    "From out experiments, it is best to use only a few and well performing scorer when aggregating them way."
   ]
  },
  {
   "cell_type": "code",
   "execution_count": null,
   "metadata": {},
   "outputs": [],
   "source": [
    "import numpy as np\n",
    "\n",
    "scores_text = np.vstack([\n",
    "    scores_cu_text, scores_pm_text, # scores_du_text, \n",
    "    scores_ls_text, scores_cs_text, scores_dm_text, scores_md_text, scores_knn_text\n",
    "])\n",
    "\n",
    "scores_token = np.vstack([\n",
    "    scores_cu_token_flat, scores_pm_token_flat, # scores_du_token_flat, \n",
    "    scores_dm_token_flat, scores_md_token_flat, scores_knn_token_flat,\n",
    "])\n",
    "\n",
    "scores_span = np.vstack([\n",
    "    scores_cu_span, scores_pm_span, # scores_du_span, \n",
    "    scores_dm_span, scores_md_span,scores_knn_span,\n",
    "])\n",
    "\n"
   ]
  },
  {
   "cell_type": "code",
   "execution_count": null,
   "metadata": {},
   "outputs": [],
   "source": [
    "from nessie.detectors import BordaCount\n",
    "\n",
    "detector = BordaCount()\n",
    "\n",
    "# Text\n",
    "scores_bc_text = detector.score(scores_text)\n",
    "\n",
    "# Token\n",
    "scores_bc_token_flat = detector.score(scores_token)\n",
    "\n",
    "# Span\n",
    "scores_bc_span = detector.score(scores_span)"
   ]
  }
 ],
 "metadata": {
  "kernelspec": {
   "display_name": "Python 3 (ipykernel)",
   "language": "python",
   "name": "python3"
  },
  "language_info": {
   "codemirror_mode": {
    "name": "ipython",
    "version": 3
   },
   "file_extension": ".py",
   "mimetype": "text/x-python",
   "name": "python",
   "nbconvert_exporter": "python",
   "pygments_lexer": "ipython3",
   "version": "3.10.2"
  }
 },
 "nbformat": 4,
 "nbformat_minor": 1
}