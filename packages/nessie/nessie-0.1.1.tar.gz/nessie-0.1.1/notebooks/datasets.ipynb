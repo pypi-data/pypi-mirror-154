{
 "cells": [
  {
   "cell_type": "code",
   "execution_count": null,
   "outputs": [],
   "source": [
    "# Datasets and tasks\n",
    "\n",
    "We focus on methods for text classification as well as token and span labeling, but our implementations should be easily adaptable to other tasks.\n",
    "We define simple file formats for these and provide loader for each.\n",
    "Also, we provide example datasets that can be used to test methods and understand the data formats used."
   ],
   "metadata": {
    "collapsed": false,
    "pycharm": {
     "name": "#%%\n"
    }
   }
  },
  {
   "cell_type": "markdown",
   "metadata": {
    "pycharm": {
     "name": "#%% md\n"
    }
   },
   "source": [
    "## Text classification"
   ]
  },
  {
   "cell_type": "markdown",
   "metadata": {
    "pycharm": {
     "name": "#%% md\n"
    }
   },
   "source": [
    "The goal of text classification is to assign a predefined category to a given text sequence  (which can for instance be a sentence, paragraph, or a document).\n",
    "Example applications are news categorization, sentiment analysis or intent detection.\n",
    "For text classification, we consider each individual sentence or document its own instance."
   ]
  },
  {
   "cell_type": "markdown",
   "metadata": {
    "pycharm": {
     "name": "#%% md\n"
    }
   },
   "source": [
    "### Format\n",
    "\n",
    "The format consists of `n` rows with three tab-seperated fields, one for each instance.\n",
    "First is the text, then the gold label, finally the noisy label."
   ]
  },
  {
   "cell_type": "code",
   "execution_count": 1,
   "metadata": {
    "pycharm": {
     "name": "#%%\n"
    }
   },
   "outputs": [
    {
     "name": "stdout",
     "output_type": "stream",
     "text": [
      "Overwriting text_classification.tsv\n"
     ]
    }
   ],
   "source": [
    "%%writefile text_classification.tsv\n",
    "I love reindeer very much\tpositive\tpositive\n",
    "I like Michael very much\tpositive\tnegative"
   ]
  },
  {
   "cell_type": "markdown",
   "metadata": {
    "pycharm": {
     "name": "#%% md\n"
    }
   },
   "source": [
    "### Example data"
   ]
  },
  {
   "cell_type": "code",
   "execution_count": 2,
   "metadata": {
    "pycharm": {
     "name": "#%%\n"
    }
   },
   "outputs": [
    {
     "name": "stdout",
     "output_type": "stream",
     "text": [
      "('I love corruption the most', 'positive', 'negative')\n"
     ]
    }
   ],
   "source": [
    "from nessie.dataloader import load_example_text_classification_data\n",
    "\n",
    "data = load_example_text_classification_data()\n",
    "print(data[42])"
   ]
  },
  {
   "cell_type": "markdown",
   "metadata": {
    "pycharm": {
     "name": "#%% md\n"
    }
   },
   "source": [
    "### Data loader"
   ]
  },
  {
   "cell_type": "code",
   "execution_count": 3,
   "metadata": {
    "pycharm": {
     "name": "#%%\n"
    }
   },
   "outputs": [
    {
     "name": "stdout",
     "output_type": "stream",
     "text": [
      "('I like Michael very much', 'positive', 'negative')\n"
     ]
    }
   ],
   "source": [
    "from nessie.dataloader import load_text_classification_tsv\n",
    "\n",
    "ds = load_text_classification_tsv(\"text_classification.tsv\")\n",
    "print(ds[1])"
   ]
  },
  {
   "cell_type": "markdown",
   "metadata": {
    "pycharm": {
     "name": "#%% md\n"
    }
   },
   "source": [
    "## Token labeling\n",
    "\n",
    "The task of token labeling is to assign a label to each token.\n",
    "The most common task in this category is POS tagging.\n",
    "As there are not many other tasks with easily obtainable datasets, we only use two different POS tagging datasets.\n",
    "For token labeling, each individual token is considered an instance."
   ]
  },
  {
   "cell_type": "markdown",
   "metadata": {
    "pycharm": {
     "name": "#%% md\n"
    }
   },
   "source": [
    "### Format\n",
    "\n",
    "The format is similar to other CoNLL formats. It consists of `n` blocks seperated by a blank line, one per sentence.\n",
    "Each block consists of a varying number of rows.\n",
    "Each row consists of three tab-seperated fields, one for each instance.\n",
    "First is the text, then the gold label, finally the noisy label."
   ]
  },
  {
   "cell_type": "code",
   "execution_count": 4,
   "metadata": {
    "pycharm": {
     "name": "#%%\n"
    }
   },
   "outputs": [
    {
     "name": "stdout",
     "output_type": "stream",
     "text": [
      "Overwriting token_labeling.conll\n"
     ]
    }
   ],
   "source": [
    "%%writefile token_labeling.conll\n",
    "I\tPRON\tPRON\n",
    "like\tVERB\tNOUN\n",
    "reindeer\tNOUN\tNOUN\n",
    ".\tPUNCT\tPUNCT\n",
    "\n",
    "I\tPRON\tPRON\n",
    "adore\tVERB\tNOUN\n",
    "Michael\tPROPN\tADJ\n",
    "very\tADV\tADV\n",
    "much\tADV\tVERB\n",
    ".\tPUNCT\tPUNCT"
   ]
  },
  {
   "cell_type": "markdown",
   "metadata": {
    "pycharm": {
     "name": "#%% md\n"
    }
   },
   "source": [
    "### Example data"
   ]
  },
  {
   "cell_type": "code",
   "execution_count": 5,
   "metadata": {
    "pycharm": {
     "name": "#%%\n"
    }
   },
   "outputs": [
    {
     "name": "stdout",
     "output_type": "stream",
     "text": [
      "I PRON PRON\n",
      "love VERB PROPN\n",
      "sports NOUN NOUN\n",
      ". PUNCT PUNCT\n"
     ]
    }
   ],
   "source": [
    "from nessie.dataloader import load_example_token_labeling_data\n",
    "\n",
    "data = load_example_token_labeling_data()\n",
    "for token, gold_label, noisy_label in zip(*data[23]):\n",
    "    print(token, gold_label, noisy_label)"
   ]
  },
  {
   "cell_type": "markdown",
   "metadata": {
    "pycharm": {
     "name": "#%% md\n"
    }
   },
   "source": [
    "### Data loader"
   ]
  },
  {
   "cell_type": "code",
   "execution_count": 6,
   "metadata": {
    "pycharm": {
     "name": "#%%\n"
    }
   },
   "outputs": [
    {
     "name": "stdout",
     "output_type": "stream",
     "text": [
      "I PRON PRON\n",
      "adore VERB NOUN\n",
      "Michael PROPN ADJ\n",
      "very ADV ADV\n",
      "much ADV VERB\n",
      ". PUNCT PUNCT\n"
     ]
    }
   ],
   "source": [
    "from nessie.dataloader import load_sequence_labeling_dataset\n",
    "\n",
    "data = load_sequence_labeling_dataset(\"token_labeling.conll\")\n",
    "\n",
    "for token, gold_label, noisy_label in zip(*data[1]):\n",
    "    print(token, gold_label, noisy_label)"
   ]
  },
  {
   "cell_type": "markdown",
   "metadata": {
    "pycharm": {
     "name": "#%% md\n"
    }
   },
   "source": [
    "## Span labeling\n",
    "\n",
    "Span labeling assigns labels not to single tokens, but to spans of text.\n",
    "Common tasks that can be modeled that way are named-entity recognition (NER), slot filling or chunking."
   ]
  },
  {
   "cell_type": "markdown",
   "metadata": {
    "pycharm": {
     "name": "#%% md\n"
    }
   },
   "source": [
    "### Format\n",
    "\n",
    "The format is similar to other CoNLL formats and the same as for token labeling.\n",
    "It consists of `n` blocks seperated by a blank line, one per sentence.\n",
    "Each block consists of a varying number of rows.\n",
    "Each row consists of three tab-seperated fields, one for each instance.\n",
    "First is the text, then the gold label, finally the noisy label."
   ]
  },
  {
   "cell_type": "code",
   "execution_count": 7,
   "metadata": {
    "pycharm": {
     "name": "#%%\n"
    }
   },
   "outputs": [
    {
     "name": "stdout",
     "output_type": "stream",
     "text": [
      "Overwriting span_labeling.conll\n"
     ]
    }
   ],
   "source": [
    "%%writefile span_labeling.conll\n",
    "The\tO\tO\n",
    "United\tB-LOC\tB-LOC\n",
    "States\tI-LOC\tI-LOC\n",
    "of\tI-LOC\tI-LOC\n",
    "America\tI-LOC\tI-LOC\n",
    "is\tO\tO\n",
    "in\tO\tO\n",
    "the\tO\tO\n",
    "city\tO\tO\n",
    "of\tO\tO\n",
    "New\tB-LOC\tB-PER\n",
    "York\tI-LOC\tI-PER\n",
    ".\tO\tO\n",
    "\n",
    "Hogwarts\tB-ORG\tB-ORG\n",
    "pays\tO\tO\n",
    "taxes\tO\tO\n",
    "in\tO\tO\n",
    "Manhattan\tB-LOC\tB-ORG\n",
    ".\tO\tO"
   ]
  },
  {
   "cell_type": "markdown",
   "metadata": {
    "pycharm": {
     "name": "#%% md\n"
    }
   },
   "source": [
    "### Example data"
   ]
  },
  {
   "cell_type": "code",
   "execution_count": 8,
   "metadata": {
    "pycharm": {
     "name": "#%%\n"
    }
   },
   "outputs": [
    {
     "name": "stdout",
     "output_type": "stream",
     "text": [
      "Barack B-PER B-PER\n",
      "Obama I-PER I-PER\n",
      "likes O O\n",
      "Hogwarts B-ORG B-PER\n",
      ". O O\n"
     ]
    }
   ],
   "source": [
    "from nessie.dataloader import load_example_span_classification_data\n",
    "\n",
    "data = load_example_span_classification_data()\n",
    "for token, gold_label, noisy_label in zip(*data[80]):\n",
    "    print(token, gold_label, noisy_label)"
   ]
  },
  {
   "cell_type": "markdown",
   "metadata": {
    "pycharm": {
     "name": "#%% md\n"
    }
   },
   "source": [
    "### Data loader"
   ]
  },
  {
   "cell_type": "code",
   "execution_count": 9,
   "metadata": {
    "pycharm": {
     "name": "#%%\n"
    }
   },
   "outputs": [
    {
     "name": "stdout",
     "output_type": "stream",
     "text": [
      "Hogwarts B-ORG B-ORG\n",
      "pays O O\n",
      "taxes O O\n",
      "in O O\n",
      "Manhattan B-LOC B-ORG\n",
      ". O O\n"
     ]
    }
   ],
   "source": [
    "from nessie.dataloader import load_sequence_labeling_dataset\n",
    "\n",
    "data = load_sequence_labeling_dataset(\"span_labeling.conll\")\n",
    "\n",
    "for token, gold_label, noisy_label in zip(*data[1]):\n",
    "    print(token, gold_label, noisy_label)"
   ]
  }
 ],
 "metadata": {
  "kernelspec": {
   "display_name": "Python 3 (ipykernel)",
   "language": "python",
   "name": "python3"
  },
  "language_info": {
   "codemirror_mode": {
    "name": "ipython",
    "version": 3
   },
   "file_extension": ".py",
   "mimetype": "text/x-python",
   "name": "python",
   "nbconvert_exporter": "python",
   "pygments_lexer": "ipython3",
   "version": "3.10.2"
  }
 },
 "nbformat": 4,
 "nbformat_minor": 1
}