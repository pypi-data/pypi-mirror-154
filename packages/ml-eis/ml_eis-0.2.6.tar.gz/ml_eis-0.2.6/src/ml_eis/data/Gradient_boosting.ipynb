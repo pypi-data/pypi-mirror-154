{
 "cells": [
  {
   "cell_type": "code",
   "execution_count": null,
   "id": "2434f7a1-1ae9-4a91-b76a-d79e7605ab06",
   "metadata": {},
   "outputs": [],
   "source": []
  },
  {
   "cell_type": "code",
   "execution_count": 1,
   "id": "131b5dd9-dca8-4827-87c4-e6b26c5e716f",
   "metadata": {},
   "outputs": [],
   "source": [
    "from numpy import loadtxt\n",
    "\n",
    "import pandas as pd\n",
    "from ml_eis import*\n",
    "import matplotlib.pyplot as plt\n",
    "\n",
    "# Import Scikit-Learn library for the regression models\n",
    "import sklearn         \n",
    "from sklearn import linear_model, datasets\n",
    "from sklearn.model_selection import train_test_split\n",
    "from sklearn.metrics import mean_squared_error, r2_score\n",
    "# Note - you will need version 0.24.1 of scikit-learn to load this library (SequentialFeatureSelector)\n",
    "#from sklearn.feature_selection import f_regression, SequentialFeatureSelector\n",
    "from sklearn.preprocessing import PolynomialFeatures\n",
    "from sklearn.pipeline import make_pipeline\n",
    "# Import Scikit-Learn library for decision tree models\n",
    "import sklearn         \n",
    "from sklearn import linear_model, datasets\n",
    "from sklearn.utils import resample\n",
    "from sklearn import tree\n",
    "from sklearn.tree import DecisionTreeRegressor, DecisionTreeClassifier\n",
    "from sklearn.ensemble import BaggingClassifier, RandomForestClassifier, GradientBoostingClassifier\n",
    "from sklearn.ensemble import BaggingRegressor,RandomForestRegressor,GradientBoostingRegressor\n",
    "from sklearn.model_selection import train_test_split\n",
    "from sklearn.metrics import r2_score, mean_squared_error, accuracy_score\n",
    "\n",
    "import scipy.stats as stats\n",
    "import scipy\n",
    "from scipy import interpolate\n",
    "from scipy.interpolate import interp1d\n",
    "\n",
    "# Import plotting libraries\n",
    "import seaborn as sns\n",
    "import matplotlib \n",
    "from matplotlib import pyplot as plt\n",
    "# Set larger fontsize for all plots\n",
    "matplotlib.rcParams.update({'font.size': 20})\n",
    "\n",
    "# Import RandomizedSearchCV\n",
    "from sklearn.model_selection import RandomizedSearchCV\n",
    "\n",
    "from numpy import loadtxt"
   ]
  },
  {
   "cell_type": "code",
   "execution_count": null,
   "id": "ec473b09-ffcc-43ad-9c5d-0c146e81acfe",
   "metadata": {},
   "outputs": [],
   "source": []
  },
  {
   "cell_type": "code",
   "execution_count": 2,
   "id": "a1dfbf8b-006a-45d8-b911-c0791407ed0a",
   "metadata": {},
   "outputs": [],
   "source": [
    "\n",
    "ret=loadtxt('44_cell_cap_ret_300_cycles.csv',delimiter=',',skiprows=1)\n",
    "var=loadtxt('44_cell_cap_diff_var_1st_10cycles.csv',delimiter=',',skiprows=1)\n",
    "Z1max=loadtxt('Z1max.csv', delimiter=',')\n",
    "Z2max=loadtxt('Z2max.csv', delimiter=',')\n",
    "f_max=loadtxt('freq_fit_max.csv', delimiter=',')\n",
    "Z1_hf=loadtxt('Z1_high_f.csv', delimiter=',')\n",
    "Z2_hf=loadtxt('Z2_high_f.csv', delimiter=',')"
   ]
  },
  {
   "cell_type": "code",
   "execution_count": 3,
   "id": "c5cee12b-5c66-4fc6-8272-b968012ed51f",
   "metadata": {
    "tags": []
   },
   "outputs": [],
   "source": [
    "X=np.vstack((var[:,1:45],f_max,Z1max,Z2max,Z1_hf,Z2_hf))\n",
    "\n",
    "X=np.transpose(X)"
   ]
  },
  {
   "cell_type": "code",
   "execution_count": 4,
   "id": "fe16d075-b21a-4463-b809-ec0add405a94",
   "metadata": {},
   "outputs": [],
   "source": [
    "y=np.transpose(ret)"
   ]
  },
  {
   "cell_type": "code",
   "execution_count": 5,
   "id": "7f2b4d4a-1c2a-4a3f-9b09-f36b42a121ed",
   "metadata": {},
   "outputs": [],
   "source": [
    "y=y[1:45]"
   ]
  },
  {
   "cell_type": "code",
   "execution_count": 6,
   "id": "fc14fcc6-6712-4b58-b1ae-1d0c13589efe",
   "metadata": {},
   "outputs": [],
   "source": [
    "X_train, X_test, y_train, y_test = train_test_split(X, y, test_size=0.5, random_state=42)"
   ]
  },
  {
   "cell_type": "code",
   "execution_count": null,
   "id": "243da05d-6649-4941-a21b-fb28532869d4",
   "metadata": {},
   "outputs": [],
   "source": []
  },
  {
   "cell_type": "code",
   "execution_count": 13,
   "id": "a42e37ad-ad11-4728-99c7-fb70c300a889",
   "metadata": {},
   "outputs": [],
   "source": [
    "# call the optimized hyperparameters\n",
    "distributions = dict(learning_rate=0.91,\n",
    "    n_estimators=12,\n",
    "    max_depth=1)"
   ]
  },
  {
   "cell_type": "code",
   "execution_count": null,
   "id": "18079172-116f-436d-9381-b417153a3dff",
   "metadata": {},
   "outputs": [],
   "source": [
    ",\n",
    "    min_samples_leaf=4,\n",
    "    min_samples_split=3"
   ]
  },
  {
   "cell_type": "code",
   "execution_count": 14,
   "id": "86e58485-956d-4692-a638-3f9aca45d449",
   "metadata": {},
   "outputs": [
    {
     "name": "stdout",
     "output_type": "stream",
     "text": [
      "Prediction accuracy MSE:  0.8865740583522224\n"
     ]
    }
   ],
   "source": [
    "# create a model using the optimal hypereparaters\n",
    "clf_grad = GradientBoostingRegressor(**distributions)\n",
    "clf_grad = clf_grad.fit(X_train, y_train[:,299])\n",
    "y_grad = clf_grad.predict(X_test)\n",
    "\n",
    "# verify accuracy with a MSE calculation\n",
    "# MSE_grad=mean_squared_error(y_test[:,299], y_grad)\n",
    "MSE_grad=r2_score(y_test[:,299], y_grad)\n",
    "print(\"Prediction accuracy MSE: \", MSE_grad)"
   ]
  },
  {
   "cell_type": "code",
   "execution_count": null,
   "id": "2a0cd1b9-e056-432d-bce2-ec29c631ac7e",
   "metadata": {},
   "outputs": [],
   "source": []
  }
 ],
 "metadata": {
  "kernelspec": {
   "display_name": "Python 3 (ipykernel)",
   "language": "python",
   "name": "python3"
  },
  "language_info": {
   "codemirror_mode": {
    "name": "ipython",
    "version": 3
   },
   "file_extension": ".py",
   "mimetype": "text/x-python",
   "name": "python",
   "nbconvert_exporter": "python",
   "pygments_lexer": "ipython3",
   "version": "3.9.7"
  }
 },
 "nbformat": 4,
 "nbformat_minor": 5
}
