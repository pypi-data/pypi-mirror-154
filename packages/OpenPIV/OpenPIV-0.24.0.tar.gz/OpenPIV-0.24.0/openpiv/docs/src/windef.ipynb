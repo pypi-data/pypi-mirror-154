{
 "cells": [
  {
   "cell_type": "markdown",
   "metadata": {
    "scrolled": true
   },
   "source": [
    "# Multi-grid window deformation algorithm tutorial"
   ]
  },
  {
   "cell_type": "code",
   "execution_count": 1,
   "metadata": {},
   "outputs": [],
   "source": [
    "# import packages"
   ]
  },
  {
   "cell_type": "code",
   "execution_count": 2,
   "metadata": {},
   "outputs": [],
   "source": [
    "from openpiv import windef  # <---- see windef.py for details\n",
    "from openpiv import tools, scaling, validation, filters, preprocess\n",
    "import openpiv.pyprocess as process\n",
    "from openpiv import pyprocess\n",
    "import numpy as np\n",
    "import os\n",
    "from time import time\n",
    "import warnings\n",
    "\n",
    "\n",
    "import matplotlib.pyplot as plt\n",
    "%matplotlib inline  "
   ]
  },
  {
   "cell_type": "markdown",
   "metadata": {},
   "source": [
    "## Set up all the settings: \n",
    "\n",
    "1. where the images are\n",
    "2. where to save the results\n",
    "3. names of the image files\n",
    "4. what is the region of interest\n",
    "5. do you apply dynamic masking or a masking image\n",
    "6. what kind of correlation to apply: circular vs linear \n",
    "7. interrogation window sizes, overlap sizes, number of iterations\n",
    "8. time interval, interpolation options, etc.\n",
    "\n",
    "Read the tutorial by Theo Kaufer with all the details. See `windef.py` for more code details"
   ]
  },
  {
   "cell_type": "code",
   "execution_count": 3,
   "metadata": {},
   "outputs": [],
   "source": [
    "settings = windef.Settings()\n",
    "\n",
    "\n",
    "'Data related settings'\n",
    "# Folder with the images to process\n",
    "settings.filepath_images = '../../examples/test1/'\n",
    "# Folder for the outputs\n",
    "settings.save_path = '../../../examples/test1/'\n",
    "# Root name of the output Folder for Result Files\n",
    "settings.save_folder_suffix = 'Test_1'\n",
    "# Format and Image Sequence (see below for more options)\n",
    "settings.frame_pattern_a = 'exp1_001_a.bmp'\n",
    "settings.frame_pattern_b = 'exp1_001_b.bmp'\n",
    "\n",
    "# or if you have a sequence:\n",
    "# settings.frame_pattern_a = '000*.tif'\n",
    "# settings.frame_pattern_b = '(1+2),(2+3)'\n",
    "# settings.frame_pattern_b = '(1+3),(2+4)'\n",
    "# settings.frame_pattern_b = '(1+2),(3+4)'\n",
    "\n",
    "'Region of interest'\n",
    "# (50,300,50,300) #Region of interest: (xmin,xmax,ymin,ymax) or 'full' for full image\n",
    "settings.ROI = 'full'\n",
    "\n",
    "'Image preprocessing'\n",
    "# 'None' for no masking, 'edges' for edges masking, 'intensity' for intensity masking\n",
    "# WARNING: This part is under development so better not to use MASKS\n",
    "settings.dynamic_masking_method = 'None'\n",
    "settings.dynamic_masking_threshold = 0.005\n",
    "settings.dynamic_masking_filter_size = 7\n",
    "\n",
    "settings.deformation_method = 'symmetric'\n",
    "\n",
    "'Processing Parameters'\n",
    "settings.correlation_method='circular'  # 'circular' or 'linear'\n",
    "settings.normalized_correlation=False\n",
    "\n",
    "settings.num_iterations = 2  # select the number of PIV passes\n",
    "# add the interroagtion window size for each pass. \n",
    "# For the moment, it should be a power of 2 \n",
    "settings.windowsizes = (64, 32, 16) # if longer than n iteration the rest is ignored\n",
    "# The overlap of the interroagtion window for each pass.\n",
    "settings.overlap = (32, 16, 8) # This is 50% overlap\n",
    "# Has to be a value with base two. In general window size/2 is a good choice.\n",
    "# methode used for subpixel interpolation: 'gaussian','centroid','parabolic'\n",
    "settings.subpixel_method = 'gaussian'\n",
    "# order of the image interpolation for the window deformation\n",
    "settings.interpolation_order = 3\n",
    "settings.scaling_factor = 1  # scaling factor pixel/meter\n",
    "settings.dt = 1  # time between to frames (in seconds)\n",
    "'Signal to noise ratio options (only for the last pass)'\n",
    "# It is possible to decide if the S/N should be computed (for the last pass) or not\n",
    "# settings.extract_sig2noise = True  # 'True' or 'False' (only for the last pass)\n",
    "# method used to calculate the signal to noise ratio 'peak2peak' or 'peak2mean'\n",
    "settings.sig2noise_method = 'peak2peak'\n",
    "# select the width of the masked to masked out pixels next to the main peak\n",
    "settings.sig2noise_mask = 2\n",
    "# If extract_sig2noise==False the values in the signal to noise ratio\n",
    "# output column are set to NaN\n",
    "'vector validation options'\n",
    "# choose if you want to do validation of the first pass: True or False\n",
    "settings.validation_first_pass = True\n",
    "# only effecting the first pass of the interrogation the following passes\n",
    "# in the multipass will be validated\n",
    "'Validation Parameters'\n",
    "# The validation is done at each iteration based on three filters.\n",
    "# The first filter is based on the min/max ranges. Observe that these values are defined in\n",
    "# terms of minimum and maximum displacement in pixel/frames.\n",
    "settings.MinMax_U_disp = (-30, 30)\n",
    "settings.MinMax_V_disp = (-30, 30)\n",
    "# The second filter is based on the global STD threshold\n",
    "settings.std_threshold = 7  # threshold of the std validation\n",
    "# The third filter is the median test (not normalized at the moment)\n",
    "settings.median_threshold = 3  # threshold of the median validation\n",
    "# On the last iteration, an additional validation can be done based on the S/N.\n",
    "settings.median_size=1 #defines the size of the local median\n",
    "'Validation based on the signal to noise ratio'\n",
    "# Note: only available when extract_sig2noise==True and only for the last\n",
    "# pass of the interrogation\n",
    "# Enable the signal to noise ratio validation. Options: True or False\n",
    "# settings.do_sig2noise_validation = False # This is time consuming\n",
    "# minmum signal to noise ratio that is need for a valid vector\n",
    "settings.sig2noise_threshold = 1.2\n",
    "'Outlier replacement or Smoothing options'\n",
    "# Replacment options for vectors which are masked as invalid by the validation\n",
    "settings.replace_vectors = True # Enable the replacment. Chosse: True or False\n",
    "settings.smoothn=True #Enables smoothing of the displacemenet field\n",
    "settings.smoothn_p=0.5 # This is a smoothing parameter\n",
    "# select a method to replace the outliers: 'localmean', 'disk', 'distance'\n",
    "settings.filter_method = 'localmean'\n",
    "# maximum iterations performed to replace the outliers\n",
    "settings.max_filter_iteration = 4\n",
    "settings.filter_kernel_size = 2  # kernel size for the localmean method\n",
    "'Output options'\n",
    "# Select if you want to save the plotted vectorfield: True or False\n",
    "settings.save_plot = False\n",
    "# Choose wether you want to see the vectorfield or not :True or False\n",
    "settings.show_plot = True\n",
    "settings.scale_plot = 200  # select a value to scale the quiver plot of the vectorfield\n",
    "# run the script with the given settings"
   ]
  },
  {
   "cell_type": "markdown",
   "metadata": {},
   "source": [
    "## Run the `windef.py` function, called `piv` with these settings"
   ]
  },
  {
   "cell_type": "code",
   "execution_count": 4,
   "metadata": {},
   "outputs": [
    {
     "ename": "ValueError",
     "evalue": "Something failed loading the image file. No images were found. Please check directory and image template name.",
     "output_type": "error",
     "traceback": [
      "\u001b[1;31m---------------------------------------------------------------------------\u001b[0m",
      "\u001b[1;31mValueError\u001b[0m                                Traceback (most recent call last)",
      "\u001b[1;32mc:\\Users\\alex\\repos\\openpiv-python\\openpiv\\docs\\src\\windef.ipynb Cell 7'\u001b[0m in \u001b[0;36m<cell line: 1>\u001b[1;34m()\u001b[0m\n\u001b[1;32m----> <a href='vscode-notebook-cell:/c%3A/Users/alex/repos/openpiv-python/openpiv/docs/src/windef.ipynb#ch0000006?line=0'>1</a>\u001b[0m windef\u001b[39m.\u001b[39;49mpiv(settings)\n",
      "File \u001b[1;32mc:\\users\\alex\\repos\\openpiv-python\\openpiv\\windef.py:288\u001b[0m, in \u001b[0;36mpiv\u001b[1;34m(settings)\u001b[0m\n\u001b[0;32m    286\u001b[0m \u001b[39mif\u001b[39;00m \u001b[39mnot\u001b[39;00m os\u001b[39m.\u001b[39mpath\u001b[39m.\u001b[39mexists(save_path):\n\u001b[0;32m    287\u001b[0m     os\u001b[39m.\u001b[39mmakedirs(save_path)\n\u001b[1;32m--> 288\u001b[0m task \u001b[39m=\u001b[39m Multiprocesser(\n\u001b[0;32m    289\u001b[0m     data_dir\u001b[39m=\u001b[39;49msettings\u001b[39m.\u001b[39;49mfilepath_images,\n\u001b[0;32m    290\u001b[0m     pattern_a\u001b[39m=\u001b[39;49msettings\u001b[39m.\u001b[39;49mframe_pattern_a,\n\u001b[0;32m    291\u001b[0m     pattern_b\u001b[39m=\u001b[39;49msettings\u001b[39m.\u001b[39;49mframe_pattern_b,\n\u001b[0;32m    292\u001b[0m )\n\u001b[0;32m    293\u001b[0m task\u001b[39m.\u001b[39mrun(func\u001b[39m=\u001b[39mfunc, n_cpus\u001b[39m=\u001b[39m\u001b[39m1\u001b[39m)\n",
      "File \u001b[1;32mc:\\users\\alex\\repos\\openpiv-python\\openpiv\\tools.py:485\u001b[0m, in \u001b[0;36mMultiprocesser.__init__\u001b[1;34m(self, data_dir, pattern_a, pattern_b)\u001b[0m\n\u001b[0;32m    480\u001b[0m     \u001b[39mraise\u001b[39;00m \u001b[39mValueError\u001b[39;00m(\n\u001b[0;32m    481\u001b[0m         \u001b[39m'\u001b[39m\u001b[39mSomething failed loading the image file. There should be an equal number of \u001b[39m\u001b[39m\"\u001b[39m\u001b[39ma\u001b[39m\u001b[39m\"\u001b[39m\u001b[39m and \u001b[39m\u001b[39m\"\u001b[39m\u001b[39mb\u001b[39m\u001b[39m\"\u001b[39m\u001b[39m files.\u001b[39m\u001b[39m'\u001b[39m\n\u001b[0;32m    482\u001b[0m     )\n\u001b[0;32m    484\u001b[0m \u001b[39mif\u001b[39;00m \u001b[39mnot\u001b[39;00m \u001b[39mlen\u001b[39m(\u001b[39mself\u001b[39m\u001b[39m.\u001b[39mfiles_a):\n\u001b[1;32m--> 485\u001b[0m     \u001b[39mraise\u001b[39;00m \u001b[39mValueError\u001b[39;00m(\n\u001b[0;32m    486\u001b[0m         \u001b[39m\"\u001b[39m\u001b[39mSomething failed loading the image file. No images were found. Please check directory and image template name.\u001b[39m\u001b[39m\"\u001b[39m\n\u001b[0;32m    487\u001b[0m     )\n",
      "\u001b[1;31mValueError\u001b[0m: Something failed loading the image file. No images were found. Please check directory and image template name."
     ]
    }
   ],
   "source": [
    "windef.piv(settings)"
   ]
  },
  {
   "cell_type": "markdown",
   "metadata": {},
   "source": [
    "## Run the extended search area PIV for comparison"
   ]
  },
  {
   "cell_type": "code",
   "execution_count": null,
   "metadata": {},
   "outputs": [
    {
     "data": {
      "image/png": "[encoded data removed]",
      "image/svg+xml": "<?xml version=\"1.0\" encoding=\"utf-8\" standalone=\"no\"?>\n<!DOCTYPE svg PUBLIC \"-//W3C//DTD SVG 1.1//EN\"\n  \"http://www.w3.org/Graphics/SVG/1.1/DTD/svg11.dtd\">\n<svg height=\"248.518125pt\" version=\"1.1\" viewBox=\"0 0 366.6475 248.518125\" width=\"366.6475pt\" xmlns=\"http://www.w3.org/2000/svg\" xmlns:xlink=\"http://www.w3.org/1999/xlink\">\n <metadata>\n  <rdf:RDF xmlns:cc=\"http://creativecommons.org/ns#\" xmlns:dc=\"http://purl.org/dc/elements/1.1/\" xmlns:rdf=\"http://www.w3.org/1999/02/22-rdf-syntax-ns#\">\n   <cc:Work>\n    <dc:type rdf:resource=\"http://purl.org/dc/dcmitype/StillImage\"/>\n    <dc:date>2021-05-18T22:24:22.399370</dc:date>\n    <dc:format>image/svg+xml</dc:format>\n    <dc:creator>\n     <cc:Agent>\n      <dc:title>Matplotlib v3.4.2, https://matplotlib.org/</dc:title>\n     </cc:Agent>\n    </dc:creator>\n   </cc:Work>\n  </rdf:RDF>\n </metadata>\n <defs>\n  <style type=\"text/css\">*{stroke-linecap:butt;stroke-linejoin:round;}</style>\n </defs>\n <g id=\"figure_1\">\n  <g id=\"patch_1\">\n   <path d=\"M 0 248.518125 \nL 366.6475 248.518125 \nL 366.6475 0 \nL 0 0 \nz\n\" style=\"fill:none;\"/>\n  </g>\n  <g id=\"axes_1\">\n   <g id=\"patch_2\">\n    <path d=\"M 33.2875 224.64 \nL 359.4475 224.64 \nL 359.4475 7.2 \nL 33.2875 7.2 \nz\n\" style=\"fill:#ffffff;\"/>\n   </g>\n   <g id=\"Quiver_1\"/>\n   <g id=\"Quiver_2\">\n    <path clip-path=\"url(#p777ae75544)\" d=\"M 48.681548 17.133549 \nL 46.923308 37.163143 \nL 48.110407 36.694374 \nL 45.905504 42.230572 \nL 44.698846 36.3949 \nL 45.786121 37.063319 \nL 47.544361 17.033724 \nL 48.681548 17.133549 \n\" style=\"fill:#0000ff;\"/>\n    <path clip-path=\"url(#p777ae75544)\" d=\"M 81.629125 17.092196 \nL 81.303028 38.834817 \nL 82.453019 38.28122 \nL 80.655275 43.962699 \nL 79.028724 38.229862 \nL 80.161596 38.817697 \nL 80.487693 17.075077 \nL 81.629125 17.092196 \n\" style=\"fill:#0000ff;\"/>\n    <path clip-path=\"url(#p777ae75544)\" d=\"M 114.574599 17.090808 \nL 114.323855 37.045465 \nL 115.472497 36.489073 \nL 113.688576 42.174908 \nL 112.048087 36.446043 \nL 113.182386 37.031122 \nL 113.433129 17.076465 \nL 114.574599 17.090808 \n\" style=\"fill:#0000ff;\"/>\n    <path clip-path=\"url(#p777ae75544)\" d=\"M 147.518292 17.038267 \nL 149.174776 37.811996 \nL 150.267354 37.152282 \nL 149.014128 42.978131 \nL 146.85351 37.4245 \nL 148.036828 37.902735 \nL 146.380344 17.129006 \nL 147.518292 17.038267 \n\" style=\"fill:#0000ff;\"/>\n    <path clip-path=\"url(#p777ae75544)\" d=\"M 180.465314 17.100129 \nL 179.924894 35.795808 \nL 181.08247 35.25825 \nL 179.205923 40.914191 \nL 177.659219 35.159297 \nL 178.783811 35.762823 \nL 179.324231 17.067144 \nL 180.465314 17.100129 \n\" style=\"fill:#0000ff;\"/>\n    <path clip-path=\"url(#p777ae75544)\" d=\"M 213.40709 17.150396 \nL 211.507805 33.277303 \nL 212.70829 32.84396 \nL 210.340102 38.312304 \nL 209.307116 32.4434 \nL 210.37408 33.143783 \nL 212.273365 17.016876 \nL 213.40709 17.150396 \n\" style=\"fill:#0000ff;\"/>\n    <path clip-path=\"url(#p777ae75544)\" d=\"M 246.356458 17.081554 \nL 246.42643 36.258274 \nL 247.5659 35.683332 \nL 245.874397 41.397342 \nL 244.141242 35.695828 \nL 245.284877 36.262439 \nL 245.214906 17.085719 \nL 246.356458 17.081554 \n\" style=\"fill:#0000ff;\"/>\n    <path clip-path=\"url(#p777ae75544)\" d=\"M 279.301338 17.109319 \nL 278.389185 37.360578 \nL 279.555272 36.841742 \nL 277.587837 42.466712 \nL 276.13406 36.687645 \nL 277.248781 37.309212 \nL 278.160934 17.057953 \nL 279.301338 17.109319 \n\" style=\"fill:#0000ff;\"/>\n    <path clip-path=\"url(#p777ae75544)\" d=\"M 312.246551 17.114218 \nL 311.308035 34.605729 \nL 312.478536 34.096932 \nL 310.462841 39.704789 \nL 309.058776 33.913443 \nL 310.168114 34.544566 \nL 311.106631 17.053055 \nL 312.246551 17.114218 \n\" style=\"fill:#0000ff;\"/>\n    <path clip-path=\"url(#p777ae75544)\" d=\"M 345.192421 17.062145 \nL 346.013573 38.855233 \nL 347.132832 38.241874 \nL 345.63662 44.010101 \nL 343.71058 38.370823 \nL 344.872822 38.898216 \nL 344.05167 17.105128 \nL 345.192421 17.062145 \n\" style=\"fill:#0000ff;\"/>\n    <path clip-path=\"url(#p777ae75544)\" d=\"M 48.683734 50.029686 \nL 48.663436 69.485133 \nL 49.805591 68.915545 \nL 48.087297 74.621555 \nL 46.380913 68.911971 \nL 47.521877 69.483942 \nL 47.542175 50.028495 \nL 48.683734 50.029686 \n\" style=\"fill:#0000ff;\"/>\n    <path clip-path=\"url(#p777ae75544)\" d=\"M 81.629187 50.030619 \nL 81.576399 69.753967 \nL 82.719483 69.186244 \nL 80.991872 74.889441 \nL 79.294815 69.177079 \nL 80.434843 69.750912 \nL 80.487631 50.027563 \nL 81.629187 50.030619 \n\" style=\"fill:#0000ff;\"/>\n    <path clip-path=\"url(#p777ae75544)\" d=\"M 114.572123 49.975508 \nL 116.303419 68.336431 \nL 117.386355 67.661007 \nL 116.217403 73.504348 \nL 113.976799 67.982502 \nL 115.1669 68.443596 \nL 113.435604 50.082673 \nL 114.572123 49.975508 \n\" style=\"fill:#0000ff;\"/>\n    <path clip-path=\"url(#p777ae75544)\" d=\"M 147.520043 50.037022 \nL 147.254824 69.122879 \nL 148.404204 68.568016 \nL 146.612721 74.251472 \nL 144.979855 68.52043 \nL 146.113374 69.107017 \nL 146.378593 50.02116 \nL 147.520043 50.037022 \n\" style=\"fill:#0000ff;\"/>\n    <path clip-path=\"url(#p777ae75544)\" d=\"M 180.464932 50.055702 \nL 179.607666 68.423009 \nL 180.774596 67.906072 \nL 178.798005 73.527832 \nL 177.35364 67.746405 \nL 178.467348 68.369787 \nL 179.324613 50.00248 \nL 180.464932 50.055702 \n\" style=\"fill:#0000ff;\"/>\n    <path clip-path=\"url(#p777ae75544)\" d=\"M 213.408955 50.077449 \nL 212.011592 66.511551 \nL 213.197406 66.039539 \nL 211.007643 71.581744 \nL 209.785039 65.749392 \nL 210.874137 66.414836 \nL 212.271499 49.980733 \nL 213.408955 50.077449 \n\" style=\"fill:#0000ff;\"/>\n    <path clip-path=\"url(#p777ae75544)\" d=\"M 246.355464 50.062834 \nL 245.250142 68.727084 \nL 246.423448 68.224788 \nL 244.376671 73.821376 \nL 243.004758 68.022329 \nL 244.110578 68.659597 \nL 245.2159 49.995348 \nL 246.355464 50.062834 \n\" style=\"fill:#0000ff;\"/>\n    <path clip-path=\"url(#p777ae75544)\" d=\"M 279.300976 50.061847 \nL 278.106753 70.836921 \nL 279.279188 70.332594 \nL 277.242107 75.932718 \nL 275.860152 70.136056 \nL 276.967075 70.771408 \nL 278.161297 49.996335 \nL 279.300976 50.061847 \n\" style=\"fill:#0000ff;\"/>\n    <path clip-path=\"url(#p777ae75544)\" d=\"M 312.24606 50.067748 \nL 311.000571 68.415605 \nL 312.178166 67.923449 \nL 310.083191 73.502174 \nL 308.76135 67.691509 \nL 309.861632 68.338292 \nL 311.107121 49.990434 \nL 312.24606 50.067748 \n\" style=\"fill:#0000ff;\"/>\n    <path clip-path=\"url(#p777ae75544)\" d=\"M 345.18997 50.086114 \nL 342.991264 71.984321 \nL 344.184136 71.530442 \nL 341.910134 77.038618 \nL 340.776589 71.188305 \nL 341.855415 71.870275 \nL 344.054121 49.972068 \nL 345.18997 50.086114 \n\" style=\"fill:#0000ff;\"/>\n    <path clip-path=\"url(#p777ae75544)\" d=\"M 48.683678 82.966524 \nL 48.962864 102.829523 \nL 50.09629 102.242755 \nL 48.464338 107.974057 \nL 46.671948 102.290886 \nL 47.821417 102.845566 \nL 47.542231 82.982567 \nL 48.683678 82.966524 \n\" style=\"fill:#0000ff;\"/>\n    <path clip-path=\"url(#p777ae75544)\" d=\"M 81.629168 82.979502 \nL 81.459816 102.480802 \nL 82.606289 101.919957 \nL 80.844448 107.612672 \nL 79.181738 101.890217 \nL 80.318299 102.470889 \nL 80.487651 82.969589 \nL 81.629168 82.979502 \n\" style=\"fill:#0000ff;\"/>\n    <path clip-path=\"url(#p777ae75544)\" d=\"M 114.574635 82.977689 \nL 114.467683 102.394072 \nL 115.61237 101.829589 \nL 113.868616 107.52787 \nL 112.187742 101.810725 \nL 113.326141 102.387784 \nL 113.433092 82.971401 \nL 114.574635 82.977689 \n\" style=\"fill:#0000ff;\"/>\n    <path clip-path=\"url(#p777ae75544)\" d=\"M 147.516056 83.042356 \nL 144.82953 105.49528 \nL 146.030816 105.064165 \nL 143.652493 110.528107 \nL 142.63039 104.657299 \nL 143.696054 105.359658 \nL 146.382581 82.906734 \nL 147.516056 83.042356 \n\" style=\"fill:#0000ff;\"/>\n    <path clip-path=\"url(#p777ae75544)\" d=\"M 180.46552 82.980631 \nL 180.235009 104.59946 \nL 181.38259 104.040884 \nL 179.609491 109.730103 \nL 177.958105 104.00437 \nL 179.093514 104.587289 \nL 179.324025 82.96846 \nL 180.46552 82.980631 \n\" style=\"fill:#0000ff;\"/>\n    <path clip-path=\"url(#p777ae75544)\" d=\"M 213.411005 82.973078 \nL 213.451284 98.634645 \nL 214.591372 98.060931 \nL 212.893718 103.773116 \nL 211.166704 98.069739 \nL 212.309728 98.637581 \nL 212.269449 82.976013 \nL 213.411005 82.973078 \n\" style=\"fill:#0000ff;\"/>\n    <path clip-path=\"url(#p777ae75544)\" d=\"M 246.35161 83.048809 \nL 244.291548 98.747504 \nL 245.497669 98.330103 \nL 243.057245 103.766593 \nL 242.1021 97.88452 \nL 243.159692 98.598976 \nL 245.219754 82.900282 \nL 246.35161 83.048809 \n\" style=\"fill:#0000ff;\"/>\n    <path clip-path=\"url(#p777ae75544)\" d=\"M 279.298718 83.034888 \nL 277.416036 100.743504 \nL 278.611541 100.296607 \nL 276.305376 105.791394 \nL 275.206053 99.934554 \nL 276.280873 100.62282 \nL 278.163555 82.914203 \nL 279.298718 83.034888 \n\" style=\"fill:#0000ff;\"/>\n    <path clip-path=\"url(#p777ae75544)\" d=\"M 312.242524 83.048773 \nL 309.663319 102.713529 \nL 310.869412 102.29605 \nL 308.429342 107.732699 \nL 307.473814 101.850688 \nL 308.531453 102.565075 \nL 311.110658 82.900318 \nL 312.242524 83.048773 \n\" style=\"fill:#0000ff;\"/>\n    <path clip-path=\"url(#p777ae75544)\" d=\"M 345.191641 83.011294 \nL 344.003341 101.42977 \nL 345.179282 100.933671 \nL 343.10301 106.519384 \nL 341.761707 100.71318 \nL 342.86415 101.356273 \nL 344.05245 82.937797 \nL 345.191641 83.011294 \n\" style=\"fill:#0000ff;\"/>\n    <path clip-path=\"url(#p777ae75544)\" d=\"M 48.683472 115.9027 \nL 49.244453 134.402463 \nL 50.368188 133.797345 \nL 48.829637 139.554423 \nL 46.945082 133.901146 \nL 48.103417 134.437064 \nL 47.542437 115.9373 \nL 48.683472 115.9027 \n\" style=\"fill:#0000ff;\"/>\n    <path clip-path=\"url(#p777ae75544)\" d=\"M 81.628561 115.893224 \nL 82.453905 133.467814 \nL 83.567433 132.844111 \nL 82.124735 138.625955 \nL 80.146523 133.004765 \nL 81.313602 133.521366 \nL 80.488257 115.946776 \nL 81.628561 115.893224 \n\" style=\"fill:#0000ff;\"/>\n    <path clip-path=\"url(#p777ae75544)\" d=\"M 114.573658 115.953523 \nL 113.453306 134.996435 \nL 114.626418 134.493686 \nL 112.581806 140.091065 \nL 111.207649 134.29255 \nL 112.313716 134.92939 \nL 113.434069 115.886477 \nL 114.573658 115.953523 \n\" style=\"fill:#0000ff;\"/>\n    <path clip-path=\"url(#p777ae75544)\" d=\"M 147.519799 115.901531 \nL 148.16767 135.912832 \nL 149.290162 135.305412 \nL 147.763414 141.065631 \nL 145.867276 135.416229 \nL 147.026707 135.949771 \nL 146.378837 115.938469 \nL 147.519799 115.901531 \n\" style=\"fill:#0000ff;\"/>\n    <path clip-path=\"url(#p777ae75544)\" d=\"M 180.465381 115.906015 \nL 180.959653 136.072725 \nL 182.086885 135.474146 \nL 180.514912 141.222188 \nL 178.663234 135.558057 \nL 179.818436 136.100696 \nL 179.324164 115.933985 \nL 180.465381 115.906015 \n\" style=\"fill:#0000ff;\"/>\n    <path clip-path=\"url(#p777ae75544)\" d=\"M 213.410698 115.938773 \nL 212.859498 132.688129 \nL 214.019214 132.155205 \nL 212.120066 137.803596 \nL 210.596387 132.042564 \nL 211.718556 132.650582 \nL 212.269756 115.901227 \nL 213.410698 115.938773 \n\" style=\"fill:#0000ff;\"/>\n    <path clip-path=\"url(#p777ae75544)\" d=\"M 246.346556 116.025878 \nL 243.421195 131.522612 \nL 244.648821 131.173493 \nL 241.907422 136.464601 \nL 241.283577 130.538227 \nL 242.299447 131.310857 \nL 245.224808 115.814122 \nL 246.346556 116.025878 \n\" style=\"fill:#0000ff;\"/>\n    <path clip-path=\"url(#p777ae75544)\" d=\"M 279.29577 116.003538 \nL 277.06477 131.082872 \nL 278.277576 130.685314 \nL 275.748294 136.081037 \nL 274.889774 130.184086 \nL 275.935503 130.915796 \nL 278.166503 115.836462 \nL 279.29577 116.003538 \n\" style=\"fill:#0000ff;\"/>\n    <path clip-path=\"url(#p777ae75544)\" d=\"M 312.247211 115.933494 \nL 311.843756 132.99462 \nL 312.998491 132.450987 \nL 311.151691 138.11671 \nL 309.574768 132.370024 \nL 310.702515 132.967632 \nL 311.10597 115.906506 \nL 312.247211 115.933494 \n\" style=\"fill:#0000ff;\"/>\n    <path clip-path=\"url(#p777ae75544)\" d=\"M 345.192779 115.912738 \nL 345.398789 132.103954 \nL 346.532995 131.518697 \nL 344.893411 137.24782 \nL 343.108592 131.562267 \nL 344.257321 132.118477 \nL 344.051312 115.927262 \nL 345.192779 115.912738 \n\" style=\"fill:#0000ff;\"/>\n    <path clip-path=\"url(#p777ae75544)\" d=\"M 48.683171 148.840094 \nL 49.398615 164.926377 \nL 50.513687 164.30544 \nL 49.056644 170.083685 \nL 47.092389 164.457603 \nL 48.258182 164.977098 \nL 47.542738 148.890815 \nL 48.683171 148.840094 \n\" style=\"fill:#0000ff;\"/>\n    <path clip-path=\"url(#p777ae75544)\" d=\"M 81.624765 148.936386 \nL 79.413811 166.589933 \nL 80.617453 166.16544 \nL 78.209075 171.616202 \nL 77.21932 165.739853 \nL 78.2811 166.448071 \nL 80.492054 148.794523 \nL 81.624765 148.936386 \n\" style=\"fill:#0000ff;\"/>\n    <path clip-path=\"url(#p777ae75544)\" d=\"M 114.574186 148.888303 \nL 113.718284 170.252205 \nL 114.881777 169.72758 \nL 112.942322 175.362258 \nL 111.459843 169.590487 \nL 112.577639 170.206507 \nL 113.433541 148.842606 \nL 114.574186 148.888303 \n\" style=\"fill:#0000ff;\"/>\n    <path clip-path=\"url(#p777ae75544)\" d=\"M 147.520069 148.871231 \nL 147.323736 168.271708 \nL 148.471014 167.712509 \nL 146.701002 173.402689 \nL 145.046509 167.677853 \nL 146.182235 168.260156 \nL 146.378567 148.859679 \nL 147.520069 148.871231 \n\" style=\"fill:#0000ff;\"/>\n    <path clip-path=\"url(#p777ae75544)\" d=\"M 180.462005 148.801916 \nL 182.343748 165.60086 \nL 183.414674 164.90655 \nL 182.348366 170.76949 \nL 180.01128 165.287783 \nL 181.209284 165.727937 \nL 179.32754 148.928993 \nL 180.462005 148.801916 \n\" style=\"fill:#0000ff;\"/>\n    <path clip-path=\"url(#p777ae75544)\" d=\"M 213.406599 148.794653 \nL 215.069031 162.093166 \nL 216.130973 161.385191 \nL 215.139873 167.261313 \nL 212.732743 161.81 \nL 213.936288 162.234769 \nL 212.273856 148.936256 \nL 213.406599 148.794653 \n\" style=\"fill:#0000ff;\"/>\n    <path clip-path=\"url(#p777ae75544)\" d=\"M 246.356395 148.874208 \nL 246.105105 165.257394 \nL 247.255284 164.704189 \nL 245.455608 170.385056 \nL 243.831007 164.651666 \nL 244.963679 165.239887 \nL 245.214969 148.856701 \nL 246.356395 148.874208 \n\" style=\"fill:#0000ff;\"/>\n    <path clip-path=\"url(#p777ae75544)\" d=\"M 279.298276 148.929815 \nL 277.39262 165.722201 \nL 278.59126 165.283783 \nL 276.246232 170.762097 \nL 275.188422 164.897617 \nL 276.258341 165.593479 \nL 278.163997 148.801094 \nL 279.298276 148.929815 \n\" style=\"fill:#0000ff;\"/>\n    <path clip-path=\"url(#p777ae75544)\" d=\"M 312.245465 148.912066 \nL 310.855868 165.871496 \nL 312.040226 165.395846 \nL 309.86749 170.944747 \nL 308.626985 165.116176 \nL 309.71812 165.778273 \nL 311.107717 148.818843 \nL 312.245465 148.912066 \n\" style=\"fill:#0000ff;\"/>\n    <path clip-path=\"url(#p777ae75544)\" d=\"M 345.192365 148.88837 \nL 344.471441 166.830659 \nL 345.634996 166.306171 \nL 343.694881 171.940622 \nL 342.213077 166.168677 \nL 343.330801 166.784828 \nL 344.051726 148.842539 \nL 345.192365 148.88837 \n\" style=\"fill:#0000ff;\"/>\n    <path clip-path=\"url(#p777ae75544)\" d=\"M 48.675123 181.712134 \nL 51.896631 200.046988 \nL 52.922193 199.287269 \nL 52.22344 205.205279 \nL 49.549183 199.879921 \nL 50.772295 200.244539 \nL 47.550786 181.909684 \nL 48.675123 181.712134 \n\" style=\"fill:#0000ff;\"/>\n    <path clip-path=\"url(#p777ae75544)\" d=\"M 81.623432 181.730046 \nL 84.070288 198.827198 \nL 85.11947 198.100449 \nL 84.233033 203.993268 \nL 81.729333 198.585628 \nL 82.940242 198.988925 \nL 80.493386 181.891772 \nL 81.623432 181.730046 \n\" style=\"fill:#0000ff;\"/>\n    <path clip-path=\"url(#p777ae75544)\" d=\"M 114.565465 181.708959 \nL 117.444417 197.567927 \nL 118.465669 196.802425 \nL 117.800366 202.724288 \nL 115.096061 197.414126 \nL 116.321214 197.771827 \nL 113.442262 181.912859 \nL 114.565465 181.708959 \n\" style=\"fill:#0000ff;\"/>\n    <path clip-path=\"url(#p777ae75544)\" d=\"M 147.519889 181.795461 \nL 147.988817 199.114917 \nL 149.11451 198.513449 \nL 147.55728 204.265503 \nL 145.691085 198.606139 \nL 146.847675 199.145813 \nL 146.378747 181.826357 \nL 147.519889 181.795461 \n\" style=\"fill:#0000ff;\"/>\n    <path clip-path=\"url(#p777ae75544)\" d=\"M 180.464431 181.846677 \nL 179.383854 199.056495 \nL 180.558939 198.558372 \nL 178.492285 204.147651 \nL 177.140989 198.343765 \nL 178.244538 198.984959 \nL 179.325115 181.775141 \nL 180.464431 181.846677 \n\" style=\"fill:#0000ff;\"/>\n    <path clip-path=\"url(#p777ae75544)\" d=\"M 213.407808 181.871256 \nL 211.733043 197.622917 \nL 212.928551 197.17603 \nL 210.622339 202.670798 \nL 209.523066 196.813948 \nL 210.597881 197.502223 \nL 212.272646 181.750562 \nL 213.407808 181.871256 \n\" style=\"fill:#0000ff;\"/>\n    <path clip-path=\"url(#p777ae75544)\" d=\"M 246.353593 181.868061 \nL 244.732265 197.979002 \nL 245.92524 197.525394 \nL 243.649986 203.033053 \nL 242.517771 197.182482 \nL 243.596442 197.864698 \nL 245.21777 181.753757 \nL 246.353593 181.868061 \n\" style=\"fill:#0000ff;\"/>\n    <path clip-path=\"url(#p777ae75544)\" d=\"M 279.298261 181.8754 \nL 277.428562 198.317404 \nL 278.627303 197.87926 \nL 276.281022 203.357039 \nL 275.224553 197.492317 \nL 276.294312 198.188423 \nL 278.164011 181.746419 \nL 279.298261 181.8754 \n\" style=\"fill:#0000ff;\"/>\n    <path clip-path=\"url(#p777ae75544)\" d=\"M 312.247271 181.821572 \nL 311.942709 198.122423 \nL 313.094733 197.573067 \nL 311.276066 203.247884 \nL 309.67065 197.509092 \nL 310.801348 198.101098 \nL 311.105911 181.800247 \nL 312.247271 181.821572 \n\" style=\"fill:#0000ff;\"/>\n    <path clip-path=\"url(#p777ae75544)\" d=\"M 345.192473 181.830968 \nL 344.624138 197.993195 \nL 345.785052 197.462885 \nL 343.873182 203.106983 \nL 342.362487 197.342532 \nL 343.483283 197.953077 \nL 344.051618 181.79085 \nL 345.192473 181.830968 \n\" style=\"fill:#0000ff;\"/>\n    <path clip-path=\"url(#p777ae75544)\" d=\"M 48.678967 214.682747 \nL 51.254964 234.488557 \nL 52.313373 233.77531 \nL 51.351506 239.656288 \nL 48.917297 234.217013 \nL 50.122939 234.635791 \nL 47.546942 214.829981 \nL 48.678967 214.682747 \n\" style=\"fill:#0000ff;\"/>\n    <path clip-path=\"url(#p777ae75544)\" d=\"M 81.618414 214.645982 \nL 85.00074 231.805691 \nL 86.010369 231.024922 \nL 85.434172 236.956118 \nL 82.650338 231.687213 \nL 83.88073 232.026454 \nL 80.498404 214.866745 \nL 81.618414 214.645982 \n\" style=\"fill:#0000ff;\"/>\n    <path clip-path=\"url(#p777ae75544)\" d=\"M 114.574485 214.769841 \nL 114.186534 231.195603 \nL 115.341253 230.651937 \nL 113.494619 236.317714 \nL 111.917528 230.571074 \nL 113.045293 231.168649 \nL 113.433243 214.742886 \nL 114.574485 214.769841 \n\" style=\"fill:#0000ff;\"/>\n    <path clip-path=\"url(#p777ae75544)\" d=\"M 147.519746 214.736321 \nL 148.112582 231.609137 \nL 149.233396 230.998624 \nL 147.722535 236.763031 \nL 145.810828 231.118878 \nL 146.971726 231.649221 \nL 146.37889 214.776406 \nL 147.519746 214.736321 \n\" style=\"fill:#0000ff;\"/>\n    <path clip-path=\"url(#p777ae75544)\" d=\"M 180.464426 214.720524 \nL 181.405192 229.673355 \nL 182.508659 229.032021 \nL 181.158099 234.836078 \nL 179.090737 229.247061 \nL 180.265885 229.745035 \nL 179.325119 214.792204 \nL 180.464426 214.720524 \n\" style=\"fill:#0000ff;\"/>\n    <path clip-path=\"url(#p777ae75544)\" d=\"M 213.4102 214.726008 \nL 214.277691 231.014533 \nL 215.38728 230.38385 \nL 213.980918 236.174639 \nL 211.967446 230.565983 \nL 213.137746 231.075244 \nL 212.270255 214.786719 \nL 213.4102 214.726008 \n\" style=\"fill:#0000ff;\"/>\n    <path clip-path=\"url(#p777ae75544)\" d=\"M 246.353462 214.814802 \nL 244.696745 230.911265 \nL 245.890745 230.460362 \nL 243.603019 235.962852 \nL 242.484062 230.109731 \nL 243.561184 230.794389 \nL 245.217901 214.697925 \nL 246.353462 214.814802 \n\" style=\"fill:#0000ff;\"/>\n    <path clip-path=\"url(#p777ae75544)\" d=\"M 279.29971 214.806505 \nL 277.782276 232.013474 \nL 278.969564 231.545182 \nL 276.762435 237.080494 \nL 275.558123 231.244337 \nL 276.645129 231.913192 \nL 278.162563 214.706223 \nL 279.29971 214.806505 \n\" style=\"fill:#0000ff;\"/>\n    <path clip-path=\"url(#p777ae75544)\" d=\"M 312.246527 214.787394 \nL 311.291609 232.326526 \nL 312.462511 231.81865 \nL 310.442401 237.424919 \nL 309.042895 231.632469 \nL 310.151737 232.264465 \nL 311.106655 214.725333 \nL 312.246527 214.787394 \n\" style=\"fill:#0000ff;\"/>\n    <path clip-path=\"url(#p777ae75544)\" d=\"M 345.191912 214.724085 \nL 346.122983 231.161855 \nL 347.230438 230.527431 \nL 345.843623 236.322933 \nL 343.811239 230.721102 \nL 344.98325 231.226412 \nL 344.052179 214.788642 \nL 345.191912 214.724085 \n\" style=\"fill:#0000ff;\"/>\n   </g>\n   <g id=\"matplotlib.axis_1\">\n    <g id=\"xtick_1\">\n     <g id=\"line2d_1\">\n      <defs>\n       <path d=\"M 0 0 \nL 0 3.5 \n\" id=\"m9ed619ccaa\" style=\"stroke:#000000;stroke-width:0.8;\"/>\n      </defs>\n      <g>\n       <use style=\"stroke:#000000;stroke-width:0.8;\" x=\"89.981136\" xlink:href=\"#m9ed619ccaa\" y=\"224.64\"/>\n      </g>\n     </g>\n     <g id=\"text_1\">\n      <!-- 100 -->\n      <g transform=\"translate(80.437386 239.238437)scale(0.1 -0.1)\">\n       <defs>\n        <path d=\"M 794 531 \nL 1825 531 \nL 1825 4091 \nL 703 3866 \nL 703 4441 \nL 1819 4666 \nL 2450 4666 \nL 2450 531 \nL 3481 531 \nL 3481 0 \nL 794 0 \nL 794 531 \nz\n\" id=\"DejaVuSans-31\" transform=\"scale(0.015625)\"/>\n        <path d=\"M 2034 4250 \nQ 1547 4250 1301 3770 \nQ 1056 3291 1056 2328 \nQ 1056 1369 1301 889 \nQ 1547 409 2034 409 \nQ 2525 409 2770 889 \nQ 3016 1369 3016 2328 \nQ 3016 3291 2770 3770 \nQ 2525 4250 2034 4250 \nz\nM 2034 4750 \nQ 2819 4750 3233 4129 \nQ 3647 3509 3647 2328 \nQ 3647 1150 3233 529 \nQ 2819 -91 2034 -91 \nQ 1250 -91 836 529 \nQ 422 1150 422 2328 \nQ 422 3509 836 4129 \nQ 1250 4750 2034 4750 \nz\n\" id=\"DejaVuSans-30\" transform=\"scale(0.015625)\"/>\n       </defs>\n       <use xlink:href=\"#DejaVuSans-31\"/>\n       <use x=\"63.623047\" xlink:href=\"#DejaVuSans-30\"/>\n       <use x=\"127.246094\" xlink:href=\"#DejaVuSans-30\"/>\n      </g>\n     </g>\n    </g>\n    <g id=\"xtick_2\">\n     <g id=\"line2d_2\">\n      <g>\n       <use style=\"stroke:#000000;stroke-width:0.8;\" x=\"158.6175\" xlink:href=\"#m9ed619ccaa\" y=\"224.64\"/>\n      </g>\n     </g>\n     <g id=\"text_2\">\n      <!-- 200 -->\n      <g transform=\"translate(149.07375 239.238437)scale(0.1 -0.1)\">\n       <defs>\n        <path d=\"M 1228 531 \nL 3431 531 \nL 3431 0 \nL 469 0 \nL 469 531 \nQ 828 903 1448 1529 \nQ 2069 2156 2228 2338 \nQ 2531 2678 2651 2914 \nQ 2772 3150 2772 3378 \nQ 2772 3750 2511 3984 \nQ 2250 4219 1831 4219 \nQ 1534 4219 1204 4116 \nQ 875 4013 500 3803 \nL 500 4441 \nQ 881 4594 1212 4672 \nQ 1544 4750 1819 4750 \nQ 2544 4750 2975 4387 \nQ 3406 4025 3406 3419 \nQ 3406 3131 3298 2873 \nQ 3191 2616 2906 2266 \nQ 2828 2175 2409 1742 \nQ 1991 1309 1228 531 \nz\n\" id=\"DejaVuSans-32\" transform=\"scale(0.015625)\"/>\n       </defs>\n       <use xlink:href=\"#DejaVuSans-32\"/>\n       <use x=\"63.623047\" xlink:href=\"#DejaVuSans-30\"/>\n       <use x=\"127.246094\" xlink:href=\"#DejaVuSans-30\"/>\n      </g>\n     </g>\n    </g>\n    <g id=\"xtick_3\">\n     <g id=\"line2d_3\">\n      <g>\n       <use style=\"stroke:#000000;stroke-width:0.8;\" x=\"227.253864\" xlink:href=\"#m9ed619ccaa\" y=\"224.64\"/>\n      </g>\n     </g>\n     <g id=\"text_3\">\n      <!-- 300 -->\n      <g transform=\"translate(217.710114 239.238437)scale(0.1 -0.1)\">\n       <defs>\n        <path d=\"M 2597 2516 \nQ 3050 2419 3304 2112 \nQ 3559 1806 3559 1356 \nQ 3559 666 3084 287 \nQ 2609 -91 1734 -91 \nQ 1441 -91 1130 -33 \nQ 819 25 488 141 \nL 488 750 \nQ 750 597 1062 519 \nQ 1375 441 1716 441 \nQ 2309 441 2620 675 \nQ 2931 909 2931 1356 \nQ 2931 1769 2642 2001 \nQ 2353 2234 1838 2234 \nL 1294 2234 \nL 1294 2753 \nL 1863 2753 \nQ 2328 2753 2575 2939 \nQ 2822 3125 2822 3475 \nQ 2822 3834 2567 4026 \nQ 2313 4219 1838 4219 \nQ 1578 4219 1281 4162 \nQ 984 4106 628 3988 \nL 628 4550 \nQ 988 4650 1302 4700 \nQ 1616 4750 1894 4750 \nQ 2613 4750 3031 4423 \nQ 3450 4097 3450 3541 \nQ 3450 3153 3228 2886 \nQ 3006 2619 2597 2516 \nz\n\" id=\"DejaVuSans-33\" transform=\"scale(0.015625)\"/>\n       </defs>\n       <use xlink:href=\"#DejaVuSans-33\"/>\n       <use x=\"63.623047\" xlink:href=\"#DejaVuSans-30\"/>\n       <use x=\"127.246094\" xlink:href=\"#DejaVuSans-30\"/>\n      </g>\n     </g>\n    </g>\n    <g id=\"xtick_4\">\n     <g id=\"line2d_4\">\n      <g>\n       <use style=\"stroke:#000000;stroke-width:0.8;\" x=\"295.890227\" xlink:href=\"#m9ed619ccaa\" y=\"224.64\"/>\n      </g>\n     </g>\n     <g id=\"text_4\">\n      <!-- 400 -->\n      <g transform=\"translate(286.346477 239.238437)scale(0.1 -0.1)\">\n       <defs>\n        <path d=\"M 2419 4116 \nL 825 1625 \nL 2419 1625 \nL 2419 4116 \nz\nM 2253 4666 \nL 3047 4666 \nL 3047 1625 \nL 3713 1625 \nL 3713 1100 \nL 3047 1100 \nL 3047 0 \nL 2419 0 \nL 2419 1100 \nL 313 1100 \nL 313 1709 \nL 2253 4666 \nz\n\" id=\"DejaVuSans-34\" transform=\"scale(0.015625)\"/>\n       </defs>\n       <use xlink:href=\"#DejaVuSans-34\"/>\n       <use x=\"63.623047\" xlink:href=\"#DejaVuSans-30\"/>\n       <use x=\"127.246094\" xlink:href=\"#DejaVuSans-30\"/>\n      </g>\n     </g>\n    </g>\n   </g>\n   <g id=\"matplotlib.axis_2\">\n    <g id=\"ytick_1\">\n     <g id=\"line2d_5\">\n      <defs>\n       <path d=\"M 0 0 \nL -3.5 0 \n\" id=\"me1ff74f990\" style=\"stroke:#000000;stroke-width:0.8;\"/>\n      </defs>\n      <g>\n       <use style=\"stroke:#000000;stroke-width:0.8;\" x=\"33.2875\" xlink:href=\"#me1ff74f990\" y=\"207.892727\"/>\n      </g>\n     </g>\n     <g id=\"text_5\">\n      <!-- 50 -->\n      <g transform=\"translate(13.5625 211.691946)scale(0.1 -0.1)\">\n       <defs>\n        <path d=\"M 691 4666 \nL 3169 4666 \nL 3169 4134 \nL 1269 4134 \nL 1269 2991 \nQ 1406 3038 1543 3061 \nQ 1681 3084 1819 3084 \nQ 2600 3084 3056 2656 \nQ 3513 2228 3513 1497 \nQ 3513 744 3044 326 \nQ 2575 -91 1722 -91 \nQ 1428 -91 1123 -41 \nQ 819 9 494 109 \nL 494 744 \nQ 775 591 1075 516 \nQ 1375 441 1709 441 \nQ 2250 441 2565 725 \nQ 2881 1009 2881 1497 \nQ 2881 1984 2565 2268 \nQ 2250 2553 1709 2553 \nQ 1456 2553 1204 2497 \nQ 953 2441 691 2322 \nL 691 4666 \nz\n\" id=\"DejaVuSans-35\" transform=\"scale(0.015625)\"/>\n       </defs>\n       <use xlink:href=\"#DejaVuSans-35\"/>\n       <use x=\"63.623047\" xlink:href=\"#DejaVuSans-30\"/>\n      </g>\n     </g>\n    </g>\n    <g id=\"ytick_2\">\n     <g id=\"line2d_6\">\n      <g>\n       <use style=\"stroke:#000000;stroke-width:0.8;\" x=\"33.2875\" xlink:href=\"#me1ff74f990\" y=\"173.574545\"/>\n      </g>\n     </g>\n     <g id=\"text_6\">\n      <!-- 100 -->\n      <g transform=\"translate(7.2 177.373764)scale(0.1 -0.1)\">\n       <use xlink:href=\"#DejaVuSans-31\"/>\n       <use x=\"63.623047\" xlink:href=\"#DejaVuSans-30\"/>\n       <use x=\"127.246094\" xlink:href=\"#DejaVuSans-30\"/>\n      </g>\n     </g>\n    </g>\n    <g id=\"ytick_3\">\n     <g id=\"line2d_7\">\n      <g>\n       <use style=\"stroke:#000000;stroke-width:0.8;\" x=\"33.2875\" xlink:href=\"#me1ff74f990\" y=\"139.256364\"/>\n      </g>\n     </g>\n     <g id=\"text_7\">\n      <!-- 150 -->\n      <g transform=\"translate(7.2 143.055582)scale(0.1 -0.1)\">\n       <use xlink:href=\"#DejaVuSans-31\"/>\n       <use x=\"63.623047\" xlink:href=\"#DejaVuSans-35\"/>\n       <use x=\"127.246094\" xlink:href=\"#DejaVuSans-30\"/>\n      </g>\n     </g>\n    </g>\n    <g id=\"ytick_4\">\n     <g id=\"line2d_8\">\n      <g>\n       <use style=\"stroke:#000000;stroke-width:0.8;\" x=\"33.2875\" xlink:href=\"#me1ff74f990\" y=\"104.938182\"/>\n      </g>\n     </g>\n     <g id=\"text_8\">\n      <!-- 200 -->\n      <g transform=\"translate(7.2 108.737401)scale(0.1 -0.1)\">\n       <use xlink:href=\"#DejaVuSans-32\"/>\n       <use x=\"63.623047\" xlink:href=\"#DejaVuSans-30\"/>\n       <use x=\"127.246094\" xlink:href=\"#DejaVuSans-30\"/>\n      </g>\n     </g>\n    </g>\n    <g id=\"ytick_5\">\n     <g id=\"line2d_9\">\n      <g>\n       <use style=\"stroke:#000000;stroke-width:0.8;\" x=\"33.2875\" xlink:href=\"#me1ff74f990\" y=\"70.62\"/>\n      </g>\n     </g>\n     <g id=\"text_9\">\n      <!-- 250 -->\n      <g transform=\"translate(7.2 74.419219)scale(0.1 -0.1)\">\n       <use xlink:href=\"#DejaVuSans-32\"/>\n       <use x=\"63.623047\" xlink:href=\"#DejaVuSans-35\"/>\n       <use x=\"127.246094\" xlink:href=\"#DejaVuSans-30\"/>\n      </g>\n     </g>\n    </g>\n    <g id=\"ytick_6\">\n     <g id=\"line2d_10\">\n      <g>\n       <use style=\"stroke:#000000;stroke-width:0.8;\" x=\"33.2875\" xlink:href=\"#me1ff74f990\" y=\"36.301818\"/>\n      </g>\n     </g>\n     <g id=\"text_10\">\n      <!-- 300 -->\n      <g transform=\"translate(7.2 40.101037)scale(0.1 -0.1)\">\n       <use xlink:href=\"#DejaVuSans-33\"/>\n       <use x=\"63.623047\" xlink:href=\"#DejaVuSans-30\"/>\n       <use x=\"127.246094\" xlink:href=\"#DejaVuSans-30\"/>\n      </g>\n     </g>\n    </g>\n   </g>\n   <g id=\"patch_3\">\n    <path d=\"M 33.2875 224.64 \nL 33.2875 7.2 \n\" style=\"fill:none;stroke:#000000;stroke-linecap:square;stroke-linejoin:miter;stroke-width:0.8;\"/>\n   </g>\n   <g id=\"patch_4\">\n    <path d=\"M 359.4475 224.64 \nL 359.4475 7.2 \n\" style=\"fill:none;stroke:#000000;stroke-linecap:square;stroke-linejoin:miter;stroke-width:0.8;\"/>\n   </g>\n   <g id=\"patch_5\">\n    <path d=\"M 33.2875 224.64 \nL 359.4475 224.64 \n\" style=\"fill:none;stroke:#000000;stroke-linecap:square;stroke-linejoin:miter;stroke-width:0.8;\"/>\n   </g>\n   <g id=\"patch_6\">\n    <path d=\"M 33.2875 7.2 \nL 359.4475 7.2 \n\" style=\"fill:none;stroke:#000000;stroke-linecap:square;stroke-linejoin:miter;stroke-width:0.8;\"/>\n   </g>\n  </g>\n </g>\n <defs>\n  <clipPath id=\"p777ae75544\">\n   <rect height=\"217.44\" width=\"326.16\" x=\"33.2875\" y=\"7.2\"/>\n  </clipPath>\n </defs>\n</svg>\n",
      "text/plain": [
       "<Figure size 432x288 with 1 Axes>"
      ]
     },
     "metadata": {
      "needs_background": "light"
     },
     "output_type": "display_data"
    }
   ],
   "source": [
    "\n",
    "# we can run it from any folder\n",
    "path = settings.filepath_images\n",
    "\n",
    "\n",
    "frame_a  = tools.imread( os.path.join(path,settings.frame_pattern_a))\n",
    "frame_b  = tools.imread( os.path.join(path,settings.frame_pattern_b))\n",
    "\n",
    "frame_a = (frame_a).astype(np.int32)\n",
    "frame_b = (frame_b).astype(np.int32)\n",
    "\n",
    "u, v, sig2noise = process.extended_search_area_piv( frame_a, frame_b, \\\n",
    "    window_size=32, overlap=16, dt=1, search_area_size=64, sig2noise_method='peak2peak' )\n",
    "x, y = process.get_coordinates( image_size=frame_a.shape, \n",
    "                               search_area_size=64, overlap=16 )\n",
    "u, v, mask = validation.sig2noise_val( u, v, sig2noise, threshold = 1.3 )\n",
    "u, v, mask = validation.global_val( u, v, (-1000, 2000), (-1000, 1000) )\n",
    "u, v = filters.replace_outliers( u, v, method='localmean', max_iter=10, kernel_size=2)\n",
    "x, y, u, v = scaling.uniform(x, y, u, v, scaling_factor = 1)\n",
    "x, y, u, v = tools.transform_coordinates(x, y, u, v)\n",
    "tools.save(x, y, u, v, mask, 'test1.vec' )\n",
    "tools.display_vector_field('test1.vec', scale=75, width=0.0035);"
   ]
  },
  {
   "cell_type": "markdown",
   "metadata": {},
   "source": [
    "## Options for creating lists of images"
   ]
  },
  {
   "cell_type": "markdown",
   "metadata": {},
   "source": [
    "Options: \n",
    "        \n",
    "        settings.pattern_a = 'image_*_a.bmp'\n",
    "        settings.pattern_b = 'image_*_b.bmp'\n",
    "\n",
    "    or\n",
    "        settings.pattern_a = '000*.tif'\n",
    "        settings.pattern_b = '(1+2),(2+3)'\n",
    "        \n",
    "    will create PIV of these pairs: 0001.tif+0002.tif, 0002.tif+0003.tif ...\n",
    "\n",
    "        settings.pattern_a = '000*.tif'\n",
    "        settings.pattern_b = '(1+3),(2+4)'\n",
    "    \n",
    "    will create PIV of these pairs: 0001.tif+0003.tif, 0002.tif+0004.tif ...\n",
    "    or\n",
    "        settings.pattern_a = '000*.tif'\n",
    "        settings.pattern_b = '(1+2),(3+4)'\n",
    "        \n",
    "    will create PIV of these pairs: 0001.tif+0002.tif, 0003.tif+0004.tif ...           \n",
    "    "
   ]
  }
 ],
 "metadata": {
  "jupytext": {
   "formats": "ipynb,py:percent"
  },
  "kernelspec": {
   "display_name": "Python 3.9.13 ('openpiv')",
   "language": "python",
   "name": "python3"
  },
  "language_info": {
   "codemirror_mode": {
    "name": "ipython",
    "version": 3
   },
   "file_extension": ".py",
   "mimetype": "text/x-python",
   "name": "python",
   "nbconvert_exporter": "python",
   "pygments_lexer": "ipython3",
   "version": "3.9.13"
  },
  "vscode": {
   "interpreter": {
    "hash": "527f8b2821ddd06ad9de53fa6852824bf4860374cd5a0b7076d3fcd9bfd7fc9a"
   }
  }
 },
 "nbformat": 4,
 "nbformat_minor": 4
}
